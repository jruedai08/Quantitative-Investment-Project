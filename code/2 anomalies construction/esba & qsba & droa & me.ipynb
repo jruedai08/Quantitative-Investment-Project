{
 "cells": [
  {
   "cell_type": "code",
   "execution_count": 1,
   "id": "e7c81cd7-9340-4212-b71b-aaa3cffc488e",
   "metadata": {
    "tags": []
   },
   "outputs": [],
   "source": [
    "import numpy as np\n",
    "import pandas as pd\n",
    "\n",
    "from tqdm import tqdm"
   ]
  },
  {
   "cell_type": "markdown",
   "id": "2c3418fc-19c2-47f9-9925-c1db60468f78",
   "metadata": {},
   "source": [
    "### 数据预处理"
   ]
  },
  {
   "cell_type": "code",
   "execution_count": 2,
   "id": "3116e8f3-60f3-4e3f-b9f7-7bb36256bcd4",
   "metadata": {
    "tags": []
   },
   "outputs": [
    {
     "data": {
      "text/html": [
       "<div>\n",
       "<style scoped>\n",
       "    .dataframe tbody tr th:only-of-type {\n",
       "        vertical-align: middle;\n",
       "    }\n",
       "\n",
       "    .dataframe tbody tr th {\n",
       "        vertical-align: top;\n",
       "    }\n",
       "\n",
       "    .dataframe thead th {\n",
       "        text-align: right;\n",
       "    }\n",
       "</style>\n",
       "<table border=\"1\" class=\"dataframe\">\n",
       "  <thead>\n",
       "    <tr style=\"text-align: right;\">\n",
       "      <th></th>\n",
       "      <th>证券代码</th>\n",
       "      <th>交易日期</th>\n",
       "      <th>相对报价价差等权平均</th>\n",
       "      <th>相对有效价差等权平均</th>\n",
       "      <th>相对报价价差时间加权平均</th>\n",
       "      <th>相对有效价差时间加权平均</th>\n",
       "      <th>相对报价价差成交量加权平均</th>\n",
       "      <th>相对有效价差成交量加权平均</th>\n",
       "      <th>相对报价价差成交金额加权平均</th>\n",
       "      <th>相对有效价差成交金额加权平均</th>\n",
       "      <th>有效数据条数</th>\n",
       "    </tr>\n",
       "  </thead>\n",
       "  <tbody>\n",
       "    <tr>\n",
       "      <th>0</th>\n",
       "      <td>000001</td>\n",
       "      <td>2003-01-02</td>\n",
       "      <td>0.120330</td>\n",
       "      <td>0.119181</td>\n",
       "      <td>0.125846</td>\n",
       "      <td>0.124423</td>\n",
       "      <td>0.133102</td>\n",
       "      <td>0.132468</td>\n",
       "      <td>0.133072</td>\n",
       "      <td>0.132434</td>\n",
       "      <td>1030</td>\n",
       "    </tr>\n",
       "    <tr>\n",
       "      <th>1</th>\n",
       "      <td>000001</td>\n",
       "      <td>2003-01-03</td>\n",
       "      <td>0.114652</td>\n",
       "      <td>0.113188</td>\n",
       "      <td>0.117521</td>\n",
       "      <td>0.115589</td>\n",
       "      <td>0.129906</td>\n",
       "      <td>0.129329</td>\n",
       "      <td>0.129889</td>\n",
       "      <td>0.129312</td>\n",
       "      <td>1094</td>\n",
       "    </tr>\n",
       "    <tr>\n",
       "      <th>2</th>\n",
       "      <td>000001</td>\n",
       "      <td>2003-01-06</td>\n",
       "      <td>0.114064</td>\n",
       "      <td>0.112572</td>\n",
       "      <td>0.117581</td>\n",
       "      <td>0.115452</td>\n",
       "      <td>0.122045</td>\n",
       "      <td>0.121641</td>\n",
       "      <td>0.122073</td>\n",
       "      <td>0.121669</td>\n",
       "      <td>937</td>\n",
       "    </tr>\n",
       "    <tr>\n",
       "      <th>3</th>\n",
       "      <td>000001</td>\n",
       "      <td>2003-01-07</td>\n",
       "      <td>0.110642</td>\n",
       "      <td>0.109317</td>\n",
       "      <td>0.114525</td>\n",
       "      <td>0.112769</td>\n",
       "      <td>0.113870</td>\n",
       "      <td>0.113490</td>\n",
       "      <td>0.113900</td>\n",
       "      <td>0.113521</td>\n",
       "      <td>898</td>\n",
       "    </tr>\n",
       "    <tr>\n",
       "      <th>4</th>\n",
       "      <td>000001</td>\n",
       "      <td>2003-01-08</td>\n",
       "      <td>0.132515</td>\n",
       "      <td>0.130481</td>\n",
       "      <td>0.143690</td>\n",
       "      <td>0.141348</td>\n",
       "      <td>0.153468</td>\n",
       "      <td>0.151170</td>\n",
       "      <td>0.153872</td>\n",
       "      <td>0.151594</td>\n",
       "      <td>680</td>\n",
       "    </tr>\n",
       "  </tbody>\n",
       "</table>\n",
       "</div>"
      ],
      "text/plain": [
       "     证券代码        交易日期  相对报价价差等权平均  相对有效价差等权平均  相对报价价差时间加权平均  相对有效价差时间加权平均  \\\n",
       "0  000001  2003-01-02    0.120330    0.119181      0.125846      0.124423   \n",
       "1  000001  2003-01-03    0.114652    0.113188      0.117521      0.115589   \n",
       "2  000001  2003-01-06    0.114064    0.112572      0.117581      0.115452   \n",
       "3  000001  2003-01-07    0.110642    0.109317      0.114525      0.112769   \n",
       "4  000001  2003-01-08    0.132515    0.130481      0.143690      0.141348   \n",
       "\n",
       "   相对报价价差成交量加权平均  相对有效价差成交量加权平均  相对报价价差成交金额加权平均  相对有效价差成交金额加权平均  有效数据条数  \n",
       "0       0.133102       0.132468        0.133072        0.132434    1030  \n",
       "1       0.129906       0.129329        0.129889        0.129312    1094  \n",
       "2       0.122045       0.121641        0.122073        0.121669     937  \n",
       "3       0.113870       0.113490        0.113900        0.113521     898  \n",
       "4       0.153468       0.151170        0.153872        0.151594     680  "
      ]
     },
     "execution_count": 2,
     "metadata": {},
     "output_type": "execute_result"
    }
   ],
   "source": [
    "# 导入价差数据\n",
    "spread = pd.read_stata('.\\\\AMQI\\\\raw\\\\spread.dta')\n",
    "spread.head()"
   ]
  },
  {
   "cell_type": "code",
   "execution_count": 3,
   "id": "f90ba7cf-5c1a-497f-8fc2-1d6f2f38207c",
   "metadata": {
    "tags": []
   },
   "outputs": [
    {
     "name": "stdout",
     "output_type": "stream",
     "text": [
      "CPU times: total: 4.66 s\n",
      "Wall time: 17.1 s\n"
     ]
    }
   ],
   "source": [
    "%%time\n",
    "# 数据预处理\n",
    "spread1 = spread[['证券代码','交易日期','相对报价价差等权平均','相对报价价差时间加权平均']]\n",
    "#spread1 = spread[['证券代码','交易日期','相对报价价差成交量加权平均','相对报价价差成交金额加权平均']]\n",
    "spread1 = spread1.rename(columns={spread1.columns[0]:'code',\n",
    "                                  spread1.columns[1]:'date',\n",
    "                                  spread1.columns[2]:'qsba',\n",
    "                                  spread1.columns[3]:'esba'})\n",
    "spread1['date'] = pd.to_datetime(spread1['date'])\n",
    "spread1['year'] = spread1.date.dt.year\n",
    "spread1['month'] = spread1.date.dt.month"
   ]
  },
  {
   "cell_type": "code",
   "execution_count": 4,
   "id": "5a2039b2-d189-46a4-83d6-b9a9bbed8918",
   "metadata": {
    "tags": []
   },
   "outputs": [
    {
     "data": {
      "text/html": [
       "<div>\n",
       "<style scoped>\n",
       "    .dataframe tbody tr th:only-of-type {\n",
       "        vertical-align: middle;\n",
       "    }\n",
       "\n",
       "    .dataframe tbody tr th {\n",
       "        vertical-align: top;\n",
       "    }\n",
       "\n",
       "    .dataframe thead th {\n",
       "        text-align: right;\n",
       "    }\n",
       "</style>\n",
       "<table border=\"1\" class=\"dataframe\">\n",
       "  <thead>\n",
       "    <tr style=\"text-align: right;\">\n",
       "      <th></th>\n",
       "      <th>code</th>\n",
       "      <th>date</th>\n",
       "      <th>qsba</th>\n",
       "      <th>esba</th>\n",
       "      <th>year</th>\n",
       "      <th>month</th>\n",
       "    </tr>\n",
       "  </thead>\n",
       "  <tbody>\n",
       "    <tr>\n",
       "      <th>5855124</th>\n",
       "      <td>000001</td>\n",
       "      <td>2024-01-02</td>\n",
       "      <td>0.108075</td>\n",
       "      <td>0.106751</td>\n",
       "      <td>2024</td>\n",
       "      <td>1</td>\n",
       "    </tr>\n",
       "    <tr>\n",
       "      <th>5855125</th>\n",
       "      <td>000001</td>\n",
       "      <td>2024-01-03</td>\n",
       "      <td>0.109022</td>\n",
       "      <td>0.109017</td>\n",
       "      <td>2024</td>\n",
       "      <td>1</td>\n",
       "    </tr>\n",
       "    <tr>\n",
       "      <th>5855126</th>\n",
       "      <td>000001</td>\n",
       "      <td>2024-01-04</td>\n",
       "      <td>0.110292</td>\n",
       "      <td>0.110263</td>\n",
       "      <td>2024</td>\n",
       "      <td>1</td>\n",
       "    </tr>\n",
       "    <tr>\n",
       "      <th>5855127</th>\n",
       "      <td>000001</td>\n",
       "      <td>2024-01-05</td>\n",
       "      <td>0.108132</td>\n",
       "      <td>0.106805</td>\n",
       "      <td>2024</td>\n",
       "      <td>1</td>\n",
       "    </tr>\n",
       "    <tr>\n",
       "      <th>5855128</th>\n",
       "      <td>000001</td>\n",
       "      <td>2024-01-08</td>\n",
       "      <td>0.109926</td>\n",
       "      <td>0.109903</td>\n",
       "      <td>2024</td>\n",
       "      <td>1</td>\n",
       "    </tr>\n",
       "    <tr>\n",
       "      <th>...</th>\n",
       "      <td>...</td>\n",
       "      <td>...</td>\n",
       "      <td>...</td>\n",
       "      <td>...</td>\n",
       "      <td>...</td>\n",
       "      <td>...</td>\n",
       "    </tr>\n",
       "    <tr>\n",
       "      <th>12383926</th>\n",
       "      <td>689009</td>\n",
       "      <td>2024-02-23</td>\n",
       "      <td>0.068951</td>\n",
       "      <td>0.070510</td>\n",
       "      <td>2024</td>\n",
       "      <td>2</td>\n",
       "    </tr>\n",
       "    <tr>\n",
       "      <th>12383927</th>\n",
       "      <td>689009</td>\n",
       "      <td>2024-02-26</td>\n",
       "      <td>0.118275</td>\n",
       "      <td>0.118249</td>\n",
       "      <td>2024</td>\n",
       "      <td>2</td>\n",
       "    </tr>\n",
       "    <tr>\n",
       "      <th>12383928</th>\n",
       "      <td>689009</td>\n",
       "      <td>2024-02-27</td>\n",
       "      <td>0.080811</td>\n",
       "      <td>0.083587</td>\n",
       "      <td>2024</td>\n",
       "      <td>2</td>\n",
       "    </tr>\n",
       "    <tr>\n",
       "      <th>12383929</th>\n",
       "      <td>689009</td>\n",
       "      <td>2024-02-28</td>\n",
       "      <td>0.077991</td>\n",
       "      <td>0.081080</td>\n",
       "      <td>2024</td>\n",
       "      <td>2</td>\n",
       "    </tr>\n",
       "    <tr>\n",
       "      <th>12383930</th>\n",
       "      <td>689009</td>\n",
       "      <td>2024-02-29</td>\n",
       "      <td>0.090274</td>\n",
       "      <td>0.097436</td>\n",
       "      <td>2024</td>\n",
       "      <td>2</td>\n",
       "    </tr>\n",
       "  </tbody>\n",
       "</table>\n",
       "<p>188086 rows × 6 columns</p>\n",
       "</div>"
      ],
      "text/plain": [
       "            code       date      qsba      esba  year  month\n",
       "5855124   000001 2024-01-02  0.108075  0.106751  2024      1\n",
       "5855125   000001 2024-01-03  0.109022  0.109017  2024      1\n",
       "5855126   000001 2024-01-04  0.110292  0.110263  2024      1\n",
       "5855127   000001 2024-01-05  0.108132  0.106805  2024      1\n",
       "5855128   000001 2024-01-08  0.109926  0.109903  2024      1\n",
       "...          ...        ...       ...       ...   ...    ...\n",
       "12383926  689009 2024-02-23  0.068951  0.070510  2024      2\n",
       "12383927  689009 2024-02-26  0.118275  0.118249  2024      2\n",
       "12383928  689009 2024-02-27  0.080811  0.083587  2024      2\n",
       "12383929  689009 2024-02-28  0.077991  0.081080  2024      2\n",
       "12383930  689009 2024-02-29  0.090274  0.097436  2024      2\n",
       "\n",
       "[188086 rows x 6 columns]"
      ]
     },
     "execution_count": 4,
     "metadata": {},
     "output_type": "execute_result"
    }
   ],
   "source": [
    "spread1[spread1.year==2024]"
   ]
  },
  {
   "cell_type": "code",
   "execution_count": 5,
   "id": "56664f0c-0e54-4c64-85b9-c8df074e2590",
   "metadata": {
    "tags": []
   },
   "outputs": [
    {
     "data": {
      "text/plain": [
       "236.95238095238096"
      ]
     },
     "execution_count": 5,
     "metadata": {},
     "output_type": "execute_result"
    }
   ],
   "source": [
    "4976/21"
   ]
  },
  {
   "cell_type": "code",
   "execution_count": 6,
   "id": "a9354ae3-eec0-4648-bac2-5adc5aa2826d",
   "metadata": {
    "tags": []
   },
   "outputs": [
    {
     "name": "stdout",
     "output_type": "stream",
     "text": [
      "CPU times: total: 5.2 s\n",
      "Wall time: 11.7 s\n"
     ]
    }
   ],
   "source": [
    "%%time\n",
    "# 构造分组指标\n",
    "spread2 = spread1.copy()\n",
    "spread2 = spread2.sort_values(by='date')\n",
    "#spread2['last_date'] = np.where((spread2.groupby('code')['month'].diff(-1) == 0),\n",
    "#                                pd.NaT,\n",
    "#                                spread2['date'])\n",
    "#spread2['last_date'] = spread2.groupby(['code','year','month'])['last_date'].bfill()\n",
    "spread2 = spread2.groupby(['code','year','month'])[['qsba','esba']].mean().reset_index()\n",
    "\n",
    "# 调整日期格式\n",
    "#spread2['last_date'] = pd.to_datetime(spread2['last_date'])\n",
    "#spread2 = spread2.rename(columns={'last_date':'date'})"
   ]
  },
  {
   "cell_type": "code",
   "execution_count": 7,
   "id": "b8eb52c2-b505-4c3a-8775-3bf98ee59699",
   "metadata": {
    "tags": []
   },
   "outputs": [
    {
     "data": {
      "text/html": [
       "<div>\n",
       "<style scoped>\n",
       "    .dataframe tbody tr th:only-of-type {\n",
       "        vertical-align: middle;\n",
       "    }\n",
       "\n",
       "    .dataframe tbody tr th {\n",
       "        vertical-align: top;\n",
       "    }\n",
       "\n",
       "    .dataframe thead th {\n",
       "        text-align: right;\n",
       "    }\n",
       "</style>\n",
       "<table border=\"1\" class=\"dataframe\">\n",
       "  <thead>\n",
       "    <tr style=\"text-align: right;\">\n",
       "      <th></th>\n",
       "      <th>code</th>\n",
       "      <th>year</th>\n",
       "      <th>month</th>\n",
       "      <th>qsba</th>\n",
       "      <th>esba</th>\n",
       "    </tr>\n",
       "  </thead>\n",
       "  <tbody>\n",
       "    <tr>\n",
       "      <th>48</th>\n",
       "      <td>000001</td>\n",
       "      <td>2007</td>\n",
       "      <td>1</td>\n",
       "      <td>0.096785</td>\n",
       "      <td>0.095514</td>\n",
       "    </tr>\n",
       "    <tr>\n",
       "      <th>49</th>\n",
       "      <td>000001</td>\n",
       "      <td>2007</td>\n",
       "      <td>2</td>\n",
       "      <td>0.094131</td>\n",
       "      <td>0.094842</td>\n",
       "    </tr>\n",
       "    <tr>\n",
       "      <th>50</th>\n",
       "      <td>000001</td>\n",
       "      <td>2007</td>\n",
       "      <td>3</td>\n",
       "      <td>0.082538</td>\n",
       "      <td>0.083875</td>\n",
       "    </tr>\n",
       "    <tr>\n",
       "      <th>51</th>\n",
       "      <td>000001</td>\n",
       "      <td>2007</td>\n",
       "      <td>4</td>\n",
       "      <td>0.073668</td>\n",
       "      <td>0.074533</td>\n",
       "    </tr>\n",
       "    <tr>\n",
       "      <th>52</th>\n",
       "      <td>000001</td>\n",
       "      <td>2007</td>\n",
       "      <td>5</td>\n",
       "      <td>0.083294</td>\n",
       "      <td>0.079997</td>\n",
       "    </tr>\n",
       "    <tr>\n",
       "      <th>53</th>\n",
       "      <td>000001</td>\n",
       "      <td>2007</td>\n",
       "      <td>6</td>\n",
       "      <td>0.088898</td>\n",
       "      <td>0.087200</td>\n",
       "    </tr>\n",
       "    <tr>\n",
       "      <th>54</th>\n",
       "      <td>000001</td>\n",
       "      <td>2007</td>\n",
       "      <td>7</td>\n",
       "      <td>0.072205</td>\n",
       "      <td>0.073559</td>\n",
       "    </tr>\n",
       "    <tr>\n",
       "      <th>55</th>\n",
       "      <td>000001</td>\n",
       "      <td>2007</td>\n",
       "      <td>8</td>\n",
       "      <td>0.075758</td>\n",
       "      <td>0.077993</td>\n",
       "    </tr>\n",
       "    <tr>\n",
       "      <th>56</th>\n",
       "      <td>000001</td>\n",
       "      <td>2007</td>\n",
       "      <td>9</td>\n",
       "      <td>0.067096</td>\n",
       "      <td>0.069528</td>\n",
       "    </tr>\n",
       "    <tr>\n",
       "      <th>57</th>\n",
       "      <td>000001</td>\n",
       "      <td>2007</td>\n",
       "      <td>10</td>\n",
       "      <td>0.077869</td>\n",
       "      <td>0.080930</td>\n",
       "    </tr>\n",
       "    <tr>\n",
       "      <th>58</th>\n",
       "      <td>000001</td>\n",
       "      <td>2007</td>\n",
       "      <td>11</td>\n",
       "      <td>0.070512</td>\n",
       "      <td>0.072813</td>\n",
       "    </tr>\n",
       "    <tr>\n",
       "      <th>59</th>\n",
       "      <td>000001</td>\n",
       "      <td>2007</td>\n",
       "      <td>12</td>\n",
       "      <td>0.052692</td>\n",
       "      <td>0.053962</td>\n",
       "    </tr>\n",
       "  </tbody>\n",
       "</table>\n",
       "</div>"
      ],
      "text/plain": [
       "      code  year  month      qsba      esba\n",
       "48  000001  2007      1  0.096785  0.095514\n",
       "49  000001  2007      2  0.094131  0.094842\n",
       "50  000001  2007      3  0.082538  0.083875\n",
       "51  000001  2007      4  0.073668  0.074533\n",
       "52  000001  2007      5  0.083294  0.079997\n",
       "53  000001  2007      6  0.088898  0.087200\n",
       "54  000001  2007      7  0.072205  0.073559\n",
       "55  000001  2007      8  0.075758  0.077993\n",
       "56  000001  2007      9  0.067096  0.069528\n",
       "57  000001  2007     10  0.077869  0.080930\n",
       "58  000001  2007     11  0.070512  0.072813\n",
       "59  000001  2007     12  0.052692  0.053962"
      ]
     },
     "execution_count": 7,
     "metadata": {},
     "output_type": "execute_result"
    }
   ],
   "source": [
    "spread2[(spread2.code=='000001') & (spread2.year==2007)]"
   ]
  },
  {
   "cell_type": "code",
   "execution_count": 8,
   "id": "062c4644-8bc4-457c-98c7-35155765fe32",
   "metadata": {
    "tags": []
   },
   "outputs": [
    {
     "name": "stdout",
     "output_type": "stream",
     "text": [
      "空缺值：\n",
      " code                   0\n",
      "date                   0\n",
      "close_price            0\n",
      "market_value           0\n",
      "return                 0\n",
      "month                  0\n",
      "year                   0\n",
      "market                 0\n",
      "total_value            0\n",
      "risk_free_month        0\n",
      "qsba               20961\n",
      "esba               20965\n",
      "dtype: int64\n"
     ]
    },
    {
     "data": {
      "text/html": [
       "<div>\n",
       "<style scoped>\n",
       "    .dataframe tbody tr th:only-of-type {\n",
       "        vertical-align: middle;\n",
       "    }\n",
       "\n",
       "    .dataframe tbody tr th {\n",
       "        vertical-align: top;\n",
       "    }\n",
       "\n",
       "    .dataframe thead th {\n",
       "        text-align: right;\n",
       "    }\n",
       "</style>\n",
       "<table border=\"1\" class=\"dataframe\">\n",
       "  <thead>\n",
       "    <tr style=\"text-align: right;\">\n",
       "      <th></th>\n",
       "      <th>code</th>\n",
       "      <th>date</th>\n",
       "      <th>close_price</th>\n",
       "      <th>market_value</th>\n",
       "      <th>return</th>\n",
       "      <th>month</th>\n",
       "      <th>year</th>\n",
       "      <th>market</th>\n",
       "      <th>total_value</th>\n",
       "      <th>risk_free_month</th>\n",
       "      <th>qsba</th>\n",
       "      <th>esba</th>\n",
       "    </tr>\n",
       "  </thead>\n",
       "  <tbody>\n",
       "    <tr>\n",
       "      <th>193</th>\n",
       "      <td>000001</td>\n",
       "      <td>2007-06-29</td>\n",
       "      <td>27.520000</td>\n",
       "      <td>42661168.0</td>\n",
       "      <td>-0.040781</td>\n",
       "      <td>6</td>\n",
       "      <td>2007</td>\n",
       "      <td>-0.057379</td>\n",
       "      <td>5.742759e+07</td>\n",
       "      <td>0.25150</td>\n",
       "      <td>0.088898</td>\n",
       "      <td>0.087200</td>\n",
       "    </tr>\n",
       "    <tr>\n",
       "      <th>194</th>\n",
       "      <td>000001</td>\n",
       "      <td>2007-07-31</td>\n",
       "      <td>36.230000</td>\n",
       "      <td>56163304.0</td>\n",
       "      <td>0.316497</td>\n",
       "      <td>7</td>\n",
       "      <td>2007</td>\n",
       "      <td>0.206212</td>\n",
       "      <td>7.560325e+07</td>\n",
       "      <td>0.26245</td>\n",
       "      <td>0.072205</td>\n",
       "      <td>0.073559</td>\n",
       "    </tr>\n",
       "    <tr>\n",
       "      <th>195</th>\n",
       "      <td>000001</td>\n",
       "      <td>2007-08-31</td>\n",
       "      <td>38.000000</td>\n",
       "      <td>58907136.0</td>\n",
       "      <td>0.048855</td>\n",
       "      <td>8</td>\n",
       "      <td>2007</td>\n",
       "      <td>0.189608</td>\n",
       "      <td>7.929682e+07</td>\n",
       "      <td>0.28430</td>\n",
       "      <td>0.075758</td>\n",
       "      <td>0.077993</td>\n",
       "    </tr>\n",
       "    <tr>\n",
       "      <th>196</th>\n",
       "      <td>000001</td>\n",
       "      <td>2007-09-28</td>\n",
       "      <td>39.980000</td>\n",
       "      <td>61976508.0</td>\n",
       "      <td>0.052105</td>\n",
       "      <td>9</td>\n",
       "      <td>2007</td>\n",
       "      <td>0.078187</td>\n",
       "      <td>8.342860e+07</td>\n",
       "      <td>0.30605</td>\n",
       "      <td>0.067096</td>\n",
       "      <td>0.069528</td>\n",
       "    </tr>\n",
       "    <tr>\n",
       "      <th>197</th>\n",
       "      <td>000001</td>\n",
       "      <td>2007-10-31</td>\n",
       "      <td>48.049999</td>\n",
       "      <td>74486520.0</td>\n",
       "      <td>0.201851</td>\n",
       "      <td>10</td>\n",
       "      <td>2007</td>\n",
       "      <td>0.015500</td>\n",
       "      <td>1.002687e+08</td>\n",
       "      <td>0.31690</td>\n",
       "      <td>0.077869</td>\n",
       "      <td>0.080930</td>\n",
       "    </tr>\n",
       "  </tbody>\n",
       "</table>\n",
       "</div>"
      ],
      "text/plain": [
       "       code       date  close_price  market_value    return  month  year  \\\n",
       "193  000001 2007-06-29    27.520000    42661168.0 -0.040781      6  2007   \n",
       "194  000001 2007-07-31    36.230000    56163304.0  0.316497      7  2007   \n",
       "195  000001 2007-08-31    38.000000    58907136.0  0.048855      8  2007   \n",
       "196  000001 2007-09-28    39.980000    61976508.0  0.052105      9  2007   \n",
       "197  000001 2007-10-31    48.049999    74486520.0  0.201851     10  2007   \n",
       "\n",
       "       market   total_value  risk_free_month      qsba      esba  \n",
       "193 -0.057379  5.742759e+07          0.25150  0.088898  0.087200  \n",
       "194  0.206212  7.560325e+07          0.26245  0.072205  0.073559  \n",
       "195  0.189608  7.929682e+07          0.28430  0.075758  0.077993  \n",
       "196  0.078187  8.342860e+07          0.30605  0.067096  0.069528  \n",
       "197  0.015500  1.002687e+08          0.31690  0.077869  0.080930  "
      ]
     },
     "execution_count": 8,
     "metadata": {},
     "output_type": "execute_result"
    }
   ],
   "source": [
    "# 导入价格数据进行合并\n",
    "price = pd.read_pickle('.\\\\AMQI\\\\processed\\\\price_month.pkl')\n",
    "spread3 = spread2.copy()\n",
    "#spread3['year'] = spread3.date.dt.year\n",
    "#spread3['month'] = spread3.date.dt.month\n",
    "#spread3 = spread3.drop('date',axis=1)\n",
    "price = pd.merge(price,spread3,\n",
    "                 how='left',on=['code','year','month'])\n",
    "price = price[(price.date >= pd.to_datetime('20070601'))] # 确定时间\n",
    "\n",
    "#price['qsba'] = np.where(price.close_price==0,np.nan,price.qsba)\n",
    "#price['esba'] = np.where(price.close_price==0,np.nan,price.esba)\n",
    "print('空缺值：\\n',price.isna().sum()) # 缺失值有两种情况：停牌 / 缺失数据\n",
    "\n",
    "price.head()"
   ]
  },
  {
   "cell_type": "code",
   "execution_count": 9,
   "id": "efe9eb41-0b58-4acb-84c4-68e42acf9ac8",
   "metadata": {},
   "outputs": [
    {
     "data": {
      "text/html": [
       "<div>\n",
       "<style scoped>\n",
       "    .dataframe tbody tr th:only-of-type {\n",
       "        vertical-align: middle;\n",
       "    }\n",
       "\n",
       "    .dataframe tbody tr th {\n",
       "        vertical-align: top;\n",
       "    }\n",
       "\n",
       "    .dataframe thead th {\n",
       "        text-align: right;\n",
       "    }\n",
       "</style>\n",
       "<table border=\"1\" class=\"dataframe\">\n",
       "  <thead>\n",
       "    <tr style=\"text-align: right;\">\n",
       "      <th></th>\n",
       "      <th>code</th>\n",
       "      <th>date</th>\n",
       "      <th>close_price</th>\n",
       "      <th>market_value</th>\n",
       "      <th>return</th>\n",
       "      <th>month</th>\n",
       "      <th>year</th>\n",
       "      <th>market</th>\n",
       "      <th>total_value</th>\n",
       "      <th>risk_free_month</th>\n",
       "      <th>qsba</th>\n",
       "      <th>esba</th>\n",
       "      <th>if_mainboard</th>\n",
       "    </tr>\n",
       "  </thead>\n",
       "  <tbody>\n",
       "    <tr>\n",
       "      <th>0</th>\n",
       "      <td>000001</td>\n",
       "      <td>2007-06-29</td>\n",
       "      <td>27.520000</td>\n",
       "      <td>42661168.0</td>\n",
       "      <td>-0.040781</td>\n",
       "      <td>6</td>\n",
       "      <td>2007</td>\n",
       "      <td>-0.057379</td>\n",
       "      <td>5.742759e+07</td>\n",
       "      <td>0.25150</td>\n",
       "      <td>0.088898</td>\n",
       "      <td>0.087200</td>\n",
       "      <td>1.0</td>\n",
       "    </tr>\n",
       "    <tr>\n",
       "      <th>1</th>\n",
       "      <td>000001</td>\n",
       "      <td>2007-07-31</td>\n",
       "      <td>36.230000</td>\n",
       "      <td>56163304.0</td>\n",
       "      <td>0.316497</td>\n",
       "      <td>7</td>\n",
       "      <td>2007</td>\n",
       "      <td>0.206212</td>\n",
       "      <td>7.560325e+07</td>\n",
       "      <td>0.26245</td>\n",
       "      <td>0.072205</td>\n",
       "      <td>0.073559</td>\n",
       "      <td>1.0</td>\n",
       "    </tr>\n",
       "    <tr>\n",
       "      <th>2</th>\n",
       "      <td>000001</td>\n",
       "      <td>2007-08-31</td>\n",
       "      <td>38.000000</td>\n",
       "      <td>58907136.0</td>\n",
       "      <td>0.048855</td>\n",
       "      <td>8</td>\n",
       "      <td>2007</td>\n",
       "      <td>0.189608</td>\n",
       "      <td>7.929682e+07</td>\n",
       "      <td>0.28430</td>\n",
       "      <td>0.075758</td>\n",
       "      <td>0.077993</td>\n",
       "      <td>1.0</td>\n",
       "    </tr>\n",
       "    <tr>\n",
       "      <th>3</th>\n",
       "      <td>000001</td>\n",
       "      <td>2007-09-28</td>\n",
       "      <td>39.980000</td>\n",
       "      <td>61976508.0</td>\n",
       "      <td>0.052105</td>\n",
       "      <td>9</td>\n",
       "      <td>2007</td>\n",
       "      <td>0.078187</td>\n",
       "      <td>8.342860e+07</td>\n",
       "      <td>0.30605</td>\n",
       "      <td>0.067096</td>\n",
       "      <td>0.069528</td>\n",
       "      <td>1.0</td>\n",
       "    </tr>\n",
       "    <tr>\n",
       "      <th>4</th>\n",
       "      <td>000001</td>\n",
       "      <td>2007-10-31</td>\n",
       "      <td>48.049999</td>\n",
       "      <td>74486520.0</td>\n",
       "      <td>0.201851</td>\n",
       "      <td>10</td>\n",
       "      <td>2007</td>\n",
       "      <td>0.015500</td>\n",
       "      <td>1.002687e+08</td>\n",
       "      <td>0.31690</td>\n",
       "      <td>0.077869</td>\n",
       "      <td>0.080930</td>\n",
       "      <td>1.0</td>\n",
       "    </tr>\n",
       "  </tbody>\n",
       "</table>\n",
       "</div>"
      ],
      "text/plain": [
       "     code       date  close_price  market_value    return  month  year  \\\n",
       "0  000001 2007-06-29    27.520000    42661168.0 -0.040781      6  2007   \n",
       "1  000001 2007-07-31    36.230000    56163304.0  0.316497      7  2007   \n",
       "2  000001 2007-08-31    38.000000    58907136.0  0.048855      8  2007   \n",
       "3  000001 2007-09-28    39.980000    61976508.0  0.052105      9  2007   \n",
       "4  000001 2007-10-31    48.049999    74486520.0  0.201851     10  2007   \n",
       "\n",
       "     market   total_value  risk_free_month      qsba      esba  if_mainboard  \n",
       "0 -0.057379  5.742759e+07          0.25150  0.088898  0.087200           1.0  \n",
       "1  0.206212  7.560325e+07          0.26245  0.072205  0.073559           1.0  \n",
       "2  0.189608  7.929682e+07          0.28430  0.075758  0.077993           1.0  \n",
       "3  0.078187  8.342860e+07          0.30605  0.067096  0.069528           1.0  \n",
       "4  0.015500  1.002687e+08          0.31690  0.077869  0.080930           1.0  "
      ]
     },
     "execution_count": 9,
     "metadata": {},
     "output_type": "execute_result"
    }
   ],
   "source": [
    "# 进行分组\n",
    "# 导入主板数据并进行预处理\n",
    "main = pd.read_excel('.\\\\AMQI\\\\raw\\\\EDE20241125.xlsx').iloc[:-2,[2]]\n",
    "main = main.rename(columns={main.columns[0]:'code'})\n",
    "main['code'] = main['code'].astype(int).astype(str).str.zfill(6)\n",
    "main['if_mainboard'] = 1\n",
    "\n",
    "# 合并数据\n",
    "price1 = pd.merge(price,main,\n",
    "                  how='left',on='code')\n",
    "price1['if_mainboard'] = price1['if_mainboard'].fillna(0)\n",
    "price1.head()"
   ]
  },
  {
   "cell_type": "code",
   "execution_count": 68,
   "id": "4bc66f01-7fae-43a2-8160-d309825d25b7",
   "metadata": {
    "tags": []
   },
   "outputs": [],
   "source": [
    "def portfolio_sort(df,sort_col,g_num,hold_m=1,switch=False):\n",
    "    # 上个月的数据用于下个月的分组\n",
    "    df = df.sort_values(by=['date','code']) # 保证次序正确\n",
    "    df['to_sort'] = df.groupby('code')[sort_col].shift(1)\n",
    "    #df = df.dropna(subset=['to_sort']) # 是np.nan的值不参与portfolio的构造\n",
    "    #df = df[df['close_price']!=0] # drop掉停牌数据\n",
    "\n",
    "    # 根据主板计算分位数\n",
    "    group = [i/g_num for i in range(1,g_num)]\n",
    "    quantile = df[df['if_mainboard'] == 1].groupby(['year','month'])['to_sort'].apply(\n",
    "        lambda x:x.quantile(group)).reset_index().rename(columns={'level_2':'group'}).dropna()\n",
    "    quantile['group'] = quantile['group']/(1/g_num) # 调整为对应组号\n",
    "    quantile['group'] = quantile['group'].map(lambda x:round(x,0))\n",
    "    quantile1 = quantile.pivot(index=['year', 'month'], columns='group', values='to_sort').reset_index() # 转换为宽格式\n",
    "    df1 = pd.merge(df,quantile1,\n",
    "                   how='inner',\n",
    "                   on=['year','month']) # 将分组依据合并\n",
    "\n",
    "    # 进行分组\n",
    "    df1['portfolio0'] = np.nan # 用来存储分组\n",
    "    for i in tqdm(range(1,g_num)):\n",
    "        df1['portfolio0'] = np.where(((df1['portfolio0'].isna()) & (df1['to_sort'] <= df1[i])), # 如果尚未填充且小于分位数，说明分组应为本轮循环对应组数\n",
    "                                    i,df1['portfolio0'])\n",
    "    df1['portfolio0'] = np.where(((df1['portfolio0'].isna()) & (df1['to_sort'] > df1[g_num-1])),g_num,df1['portfolio0'])\n",
    "\n",
    "\n",
    "    risk_free = df1.groupby(['year','month'])['risk_free_month'].mean().reset_index()\n",
    "    risk_free['risk_free_month'] = risk_free['risk_free_month']*0.01 # 调整无风险利率单位错误\n",
    "\n",
    "    for i in tqdm(range(1,hold_m)):\n",
    "        df1['portfolio'+str(i)] = df1.groupby('code')['portfolio0'].shift(i)\n",
    "     \n",
    "    indicator = df1[['code','date','return',sort_col]]\n",
    "    \n",
    "    if hold_m > 1:\n",
    "        indicator = indicator.rename(columns={sort_col:sort_col+str(0)})\n",
    "        for i in tqdm(range(1,hold_m)):\n",
    "            indicator[sort_col+str(i)] = indicator.groupby('code')[sort_col+str(0)].shift(i)\n",
    "        indicator[sort_col] = indicator[[sort_col+str(i) for i in range(hold_m)]].mean(axis=1)\n",
    "        indicator.drop([sort_col+str(i) for i in range(hold_m)],axis=1,inplace=True)\n",
    "    \n",
    "    indicator = indicator.sort_values(by='date')\n",
    "    indicator['year'] = indicator.date.dt.year\n",
    "    indicator['month'] = indicator.date.dt.month\n",
    "    indicator['year_month'] = indicator['year'].astype(str) + '-' + indicator['month'].astype(str).str.zfill(2)\n",
    "    indicator.drop(['date','month','year'],axis=1,inplace=True)\n",
    "    \n",
    "    indicator = indicator.rename(columns={sort_col:'indicator_value',\n",
    "                                          'return':'monthly_return'})\n",
    "\n",
    "    def port_return(W,risk_free):\n",
    "        W = W.pivot(index=['year','month'],columns='portfolio',values='return').reset_index()\n",
    "        if switch:\n",
    "            W = W.rename(columns={1:'long',5:'short'})[['year','month','long','short']]\n",
    "        else:\n",
    "            W = W.rename(columns={5:'long',1:'short'})[['year','month','long','short']]\n",
    "        W = pd.merge(W,risk_free,\n",
    "                     how='left',on=['year','month']) # 粘上无风险利率\n",
    "        W['long'] = W['long'] - W['risk_free_month']\n",
    "        W['short'] = W['short'] - W['risk_free_month']\n",
    "        W['spread'] = W['long'] - W['short']\n",
    "        return(W)\n",
    "    \n",
    "    # 计算有多期持有的情况\n",
    "    def holding(W,hold_m,weighted=False):\n",
    "        for i in tqdm(range(1,hold_m)):\n",
    "            if weighted:\n",
    "                W_new = df1.groupby(['month','year','portfolio'+str(i)]).apply(\n",
    "                    lambda x:(x['return']*x['market_value']).sum() / x['market_value'].sum()).reset_index(\n",
    "                ).rename(columns={0:'return'+str(i),\n",
    "                                  'portfolio'+str(i):'portfolio0'})\n",
    "            else:\n",
    "                W_new = df1.groupby(['month','year','portfolio'+str(i)])['return'].mean().reset_index(\n",
    "                ).rename(columns={'return':'return'+str(i),\n",
    "                                  'portfolio'+str(i):'portfolio0'})\n",
    "\n",
    "            W = pd.merge(W,W_new,\n",
    "                         on=['month','year','portfolio0'])\n",
    "        W['return'] = W[['return'+str(i) for i in range(hold_m)]].mean(axis=1)\n",
    "        W = W[['month','year','portfolio0','return']].rename(columns={'portfolio0':'portfolio'})\n",
    "        return W\n",
    "\n",
    "    # 计算平均收益率\n",
    "    EW = df1.groupby(['month','year','portfolio0'])['return'].mean().reset_index().rename(columns={'return':'return0'})\n",
    "    EW = EW.sort_values(by=['year','month','portfolio0'])\n",
    "    EW = holding(EW,hold_m)\n",
    "    EW = port_return(EW,risk_free)\n",
    "    \n",
    "    # 计算加权收益率\n",
    "    VW = df1.groupby(['month', 'year', 'portfolio0']).apply(\n",
    "        lambda x:(x['return']*x['market_value']).sum() / x['market_value'].sum()).reset_index().rename(columns={0:'return0'})\n",
    "    VW = VW.sort_values(by=['year','month','portfolio0'])\n",
    "    VW = holding(VW,hold_m,True)\n",
    "    VW = port_return(VW,risk_free)\n",
    "    \n",
    "    # 调整格式为统一格式\n",
    "    EW['year_month'] = EW['year'].astype(str) + '-' + EW['month'].astype(str).str.zfill(2)\n",
    "    EW = EW.drop(['year','month'],axis=1)\n",
    "    EW = EW.rename(columns={'long':'return_long_eq',\n",
    "                            'short':'return_short_eq',\n",
    "                            'spread':'return_spread_eq'})\n",
    "    VW['year_month'] = VW['year'].astype(str) + '-' + VW['month'].astype(str).str.zfill(2)\n",
    "    VW = VW.drop(['year','month'],axis=1) \n",
    "    VW = VW.rename(columns={'long':'return_long_mv',\n",
    "                            'short':'return_short_mv',\n",
    "                            'spread':'return_spread_mv'})\n",
    "    \n",
    "    result = pd.merge(EW,VW,on=['year_month','risk_free_month'])\n",
    "    \n",
    "    return indicator,result"
   ]
  },
  {
   "cell_type": "markdown",
   "id": "08044369-e003-40df-adb9-6019ef96d6de",
   "metadata": {},
   "source": [
    "1个月"
   ]
  },
  {
   "cell_type": "code",
   "execution_count": 33,
   "id": "477626ce-2ef1-452a-8fe2-3108a79fbd39",
   "metadata": {
    "tags": []
   },
   "outputs": [
    {
     "name": "stderr",
     "output_type": "stream",
     "text": [
      "100%|████████████████████████████████████████████████████████████████████████████████████| 4/4 [00:00<00:00, 93.05it/s]\n",
      "0it [00:00, ?it/s]\n",
      "0it [00:00, ?it/s]\n",
      "0it [00:00, ?it/s]\n",
      "100%|████████████████████████████████████████████████████████████████████████████████████| 4/4 [00:00<00:00, 96.94it/s]\n",
      "0it [00:00, ?it/s]\n",
      "0it [00:00, ?it/s]\n",
      "0it [00:00, ?it/s]\n"
     ]
    }
   ],
   "source": [
    "# 根据 QSBA 计算分组\n",
    "sort_col = 'qsba'\n",
    "df = price1.copy()\n",
    "g_num = 5\n",
    "hold_m = 1\n",
    "\n",
    "qsba_ind, qsba = portfolio_sort(df,sort_col,g_num)\n",
    "qsba_ind.to_csv('.\\\\AMQI\\\\output\\\\indicator\\\\qsba_indicators.csv')\n",
    "qsba.to_csv('.\\\\AMQI\\\\output\\\\return\\\\qsba.csv')\n",
    "\n",
    "# 根据 ESBA 计算分组\n",
    "sort_col = 'esba'\n",
    "df = price1.copy()\n",
    "g_num = 5\n",
    "hold_m = 1\n",
    "\n",
    "esba_ind, esba = portfolio_sort(df,sort_col,g_num)\n",
    "esba_ind.to_csv('.\\\\AMQI\\\\output\\\\indicator\\\\esba_indicators.csv')\n",
    "esba.to_csv('.\\\\AMQI\\\\output\\\\return\\\\esba.csv')"
   ]
  },
  {
   "cell_type": "code",
   "execution_count": 34,
   "id": "06d4cc6f-2c18-43bf-9b4b-e3ceda588b50",
   "metadata": {
    "tags": []
   },
   "outputs": [
    {
     "data": {
      "text/plain": [
       "return_long_eq      0.010739\n",
       "return_short_eq    -0.011507\n",
       "risk_free_month     0.001843\n",
       "return_spread_eq    0.022246\n",
       "return_long_mv      0.011628\n",
       "return_short_mv     0.002990\n",
       "return_spread_mv    0.008638\n",
       "dtype: float64"
      ]
     },
     "execution_count": 34,
     "metadata": {},
     "output_type": "execute_result"
    }
   ],
   "source": [
    "esba.drop('year_month',axis=1).mean()"
   ]
  },
  {
   "cell_type": "markdown",
   "id": "e25b3de4-6ea1-472e-812e-164d7b589f60",
   "metadata": {},
   "source": [
    "3个月"
   ]
  },
  {
   "cell_type": "code",
   "execution_count": 69,
   "id": "fc009965-e537-4ef0-a1cc-68e9706b031e",
   "metadata": {
    "tags": []
   },
   "outputs": [
    {
     "name": "stderr",
     "output_type": "stream",
     "text": [
      "100%|███████████████████████████████████████████████████████████████████████████████████| 4/4 [00:00<00:00, 106.63it/s]\n",
      "100%|████████████████████████████████████████████████████████████████████████████████████| 2/2 [00:00<00:00,  7.14it/s]\n",
      "100%|████████████████████████████████████████████████████████████████████████████████████| 2/2 [00:00<00:00,  6.82it/s]\n",
      "100%|████████████████████████████████████████████████████████████████████████████████████| 2/2 [00:00<00:00,  9.09it/s]\n",
      "100%|████████████████████████████████████████████████████████████████████████████████████| 2/2 [00:01<00:00,  1.24it/s]\n",
      "100%|████████████████████████████████████████████████████████████████████████████████████| 4/4 [00:00<00:00, 83.13it/s]\n",
      "100%|████████████████████████████████████████████████████████████████████████████████████| 2/2 [00:00<00:00,  7.63it/s]\n",
      "100%|████████████████████████████████████████████████████████████████████████████████████| 2/2 [00:00<00:00,  6.79it/s]\n",
      "100%|████████████████████████████████████████████████████████████████████████████████████| 2/2 [00:00<00:00,  8.60it/s]\n",
      "100%|████████████████████████████████████████████████████████████████████████████████████| 2/2 [00:02<00:00,  1.02s/it]\n"
     ]
    }
   ],
   "source": [
    "# 根据 QSBA 计算分组\n",
    "sort_col = 'qsba'\n",
    "df = price1.copy()\n",
    "g_num = 5\n",
    "hold_m = 3\n",
    "\n",
    "qsba_ind, qsba = portfolio_sort(df,sort_col,g_num,hold_m)\n",
    "qsba_ind.to_csv('.\\\\AMQI\\\\output\\\\indicator\\\\qsba3_indicators.csv')\n",
    "qsba.to_csv('.\\\\AMQI\\\\output\\\\return\\\\qsba3.csv')\n",
    "\n",
    "# 根据 ESBA 计算分组\n",
    "sort_col = 'esba'\n",
    "df = price1.copy()\n",
    "g_num = 5\n",
    "hold_m = 3\n",
    "\n",
    "esba_ind, esba = portfolio_sort(df,sort_col,g_num,hold_m)\n",
    "esba_ind.to_csv('.\\\\AMQI\\\\output\\\\indicator\\\\esba3_indicators.csv')\n",
    "esba.to_csv('.\\\\AMQI\\\\output\\\\return\\\\esba3.csv')"
   ]
  },
  {
   "cell_type": "code",
   "execution_count": 70,
   "id": "ac9c2398-11fa-446f-afd0-52650666bb12",
   "metadata": {
    "tags": []
   },
   "outputs": [
    {
     "data": {
      "text/plain": [
       "return_long_eq      0.008176\n",
       "return_short_eq    -0.010493\n",
       "risk_free_month     0.001834\n",
       "return_spread_eq    0.018670\n",
       "return_long_mv      0.009153\n",
       "return_short_mv     0.001793\n",
       "return_spread_mv    0.007360\n",
       "dtype: float64"
      ]
     },
     "execution_count": 70,
     "metadata": {},
     "output_type": "execute_result"
    }
   ],
   "source": [
    "qsba.drop('year_month',axis=1).mean()"
   ]
  },
  {
   "cell_type": "markdown",
   "id": "3e52a196-e076-4a75-9d01-b059caef1665",
   "metadata": {},
   "source": [
    "6个月"
   ]
  },
  {
   "cell_type": "code",
   "execution_count": 71,
   "id": "da1eb083-7b22-4747-9f18-cc8a6b797402",
   "metadata": {
    "tags": []
   },
   "outputs": [
    {
     "name": "stderr",
     "output_type": "stream",
     "text": [
      "100%|████████████████████████████████████████████████████████████████████████████████████| 4/4 [00:00<00:00, 77.26it/s]\n",
      "100%|████████████████████████████████████████████████████████████████████████████████████| 5/5 [00:00<00:00,  7.22it/s]\n",
      "100%|████████████████████████████████████████████████████████████████████████████████████| 5/5 [00:00<00:00,  6.12it/s]\n",
      "100%|████████████████████████████████████████████████████████████████████████████████████| 5/5 [00:00<00:00,  9.20it/s]\n",
      "100%|████████████████████████████████████████████████████████████████████████████████████| 5/5 [00:03<00:00,  1.28it/s]\n",
      "100%|████████████████████████████████████████████████████████████████████████████████████| 4/4 [00:00<00:00, 79.28it/s]\n",
      "100%|████████████████████████████████████████████████████████████████████████████████████| 5/5 [00:00<00:00,  7.65it/s]\n",
      "100%|████████████████████████████████████████████████████████████████████████████████████| 5/5 [00:00<00:00,  7.81it/s]\n",
      "100%|████████████████████████████████████████████████████████████████████████████████████| 5/5 [00:00<00:00, 11.00it/s]\n",
      "100%|████████████████████████████████████████████████████████████████████████████████████| 5/5 [00:03<00:00,  1.30it/s]\n"
     ]
    }
   ],
   "source": [
    "# 根据 QSBA 计算分组\n",
    "sort_col = 'qsba'\n",
    "df = price1.copy()\n",
    "g_num = 5\n",
    "hold_m = 6\n",
    "\n",
    "qsba_ind, qsba = portfolio_sort(df,sort_col,g_num,hold_m)\n",
    "qsba_ind.to_csv('.\\\\AMQI\\\\output\\\\indicator\\\\qsba6_indicators.csv')\n",
    "qsba.to_csv('.\\\\AMQI\\\\output\\\\return\\\\qsba6.csv')\n",
    "\n",
    "# 根据 ESBA 计算分组\n",
    "sort_col = 'esba'\n",
    "df = price1.copy()\n",
    "g_num = 5\n",
    "hold_m = 6\n",
    "\n",
    "esba_ind, esba = portfolio_sort(df,sort_col,g_num,hold_m)\n",
    "esba_ind.to_csv('.\\\\AMQI\\\\output\\\\indicator\\\\esba6_indicators.csv')\n",
    "esba.to_csv('.\\\\AMQI\\\\output\\\\return\\\\esba6.csv')"
   ]
  },
  {
   "cell_type": "markdown",
   "id": "582415f4-b1a8-4037-bfa0-0ae8101704ac",
   "metadata": {},
   "source": [
    "9个月"
   ]
  },
  {
   "cell_type": "code",
   "execution_count": 72,
   "id": "106a00e6-9375-49d9-86d5-74a2d9e34c80",
   "metadata": {
    "tags": []
   },
   "outputs": [
    {
     "name": "stderr",
     "output_type": "stream",
     "text": [
      "100%|████████████████████████████████████████████████████████████████████████████████████| 4/4 [00:00<00:00, 75.68it/s]\n",
      "100%|████████████████████████████████████████████████████████████████████████████████████| 8/8 [00:01<00:00,  6.03it/s]\n",
      "100%|████████████████████████████████████████████████████████████████████████████████████| 8/8 [00:01<00:00,  7.22it/s]\n",
      "100%|████████████████████████████████████████████████████████████████████████████████████| 8/8 [00:00<00:00,  9.48it/s]\n",
      "100%|████████████████████████████████████████████████████████████████████████████████████| 8/8 [00:07<00:00,  1.14it/s]\n",
      "100%|████████████████████████████████████████████████████████████████████████████████████| 4/4 [00:00<00:00, 84.83it/s]\n",
      "100%|████████████████████████████████████████████████████████████████████████████████████| 8/8 [00:01<00:00,  6.74it/s]\n",
      "100%|████████████████████████████████████████████████████████████████████████████████████| 8/8 [00:01<00:00,  7.16it/s]\n",
      "100%|████████████████████████████████████████████████████████████████████████████████████| 8/8 [00:00<00:00,  8.47it/s]\n",
      "100%|████████████████████████████████████████████████████████████████████████████████████| 8/8 [00:07<00:00,  1.11it/s]\n"
     ]
    }
   ],
   "source": [
    "# 根据 QSBA 计算分组\n",
    "sort_col = 'qsba'\n",
    "df = price1.copy()\n",
    "g_num = 5\n",
    "hold_m = 9\n",
    "\n",
    "qsba_ind, qsba = portfolio_sort(df,sort_col,g_num,hold_m)\n",
    "qsba_ind.to_csv('.\\\\AMQI\\\\output\\\\indicator\\\\qsba9_indicators.csv')\n",
    "qsba.to_csv('.\\\\AMQI\\\\output\\\\return\\\\qsba9.csv')\n",
    "\n",
    "# 根据 ESBA 计算分组\n",
    "sort_col = 'esba'\n",
    "df = price1.copy()\n",
    "g_num = 5\n",
    "hold_m = 9\n",
    "\n",
    "esba_ind, esba = portfolio_sort(df,sort_col,g_num,hold_m)\n",
    "esba_ind.to_csv('.\\\\AMQI\\\\output\\\\indicator\\\\esba9_indicators.csv')\n",
    "esba.to_csv('.\\\\AMQI\\\\output\\\\return\\\\esba9.csv')"
   ]
  },
  {
   "cell_type": "markdown",
   "id": "65a7df78-1e6a-436e-a090-1fc43a8814b9",
   "metadata": {},
   "source": [
    "12个月"
   ]
  },
  {
   "cell_type": "code",
   "execution_count": 73,
   "id": "14d7ac4b-4c41-4f7f-a778-aed12eaa9ea9",
   "metadata": {
    "tags": []
   },
   "outputs": [
    {
     "name": "stderr",
     "output_type": "stream",
     "text": [
      "100%|████████████████████████████████████████████████████████████████████████████████████| 4/4 [00:00<00:00, 90.63it/s]\n",
      "100%|██████████████████████████████████████████████████████████████████████████████████| 11/11 [00:01<00:00,  7.06it/s]\n",
      "100%|██████████████████████████████████████████████████████████████████████████████████| 11/11 [00:01<00:00,  6.64it/s]\n",
      "100%|██████████████████████████████████████████████████████████████████████████████████| 11/11 [00:01<00:00,  9.82it/s]\n",
      "100%|██████████████████████████████████████████████████████████████████████████████████| 11/11 [00:10<00:00,  1.02it/s]\n",
      "100%|███████████████████████████████████████████████████████████████████████████████████| 4/4 [00:00<00:00, 104.48it/s]\n",
      "100%|██████████████████████████████████████████████████████████████████████████████████| 11/11 [00:01<00:00,  6.51it/s]\n",
      "100%|██████████████████████████████████████████████████████████████████████████████████| 11/11 [00:01<00:00,  6.57it/s]\n",
      "100%|██████████████████████████████████████████████████████████████████████████████████| 11/11 [00:01<00:00,  9.93it/s]\n",
      "100%|██████████████████████████████████████████████████████████████████████████████████| 11/11 [00:10<00:00,  1.05it/s]\n"
     ]
    }
   ],
   "source": [
    "# 根据 QSBA 计算分组\n",
    "sort_col = 'qsba'\n",
    "df = price1.copy()\n",
    "g_num = 5\n",
    "hold_m = 12\n",
    "\n",
    "qsba_ind, qsba = portfolio_sort(df,sort_col,g_num,hold_m)\n",
    "qsba_ind.to_csv('.\\\\AMQI\\\\output\\\\indicator\\\\qsba12_indicators.csv')\n",
    "qsba.to_csv('.\\\\AMQI\\\\output\\\\return\\\\qsba12.csv')\n",
    "\n",
    "# 根据 ESBA 计算分组\n",
    "sort_col = 'esba'\n",
    "df = price1.copy()\n",
    "g_num = 5\n",
    "hold_m = 12\n",
    "\n",
    "esba_ind, esba = portfolio_sort(df,sort_col,g_num,hold_m)\n",
    "esba_ind.to_csv('.\\\\AMQI\\\\output\\\\indicator\\\\esba12_indicators.csv')\n",
    "esba.to_csv('.\\\\AMQI\\\\output\\\\return\\\\esba12.csv')"
   ]
  },
  {
   "cell_type": "code",
   "execution_count": 74,
   "id": "5c9b06c9-cec0-4598-bd9a-82d036ba7951",
   "metadata": {
    "tags": []
   },
   "outputs": [
    {
     "data": {
      "text/plain": [
       "return_long_eq      0.008269\n",
       "return_short_eq    -0.005394\n",
       "risk_free_month     0.001764\n",
       "return_spread_eq    0.013663\n",
       "return_long_mv      0.010836\n",
       "return_short_mv     0.004868\n",
       "return_spread_mv    0.005968\n",
       "dtype: float64"
      ]
     },
     "execution_count": 74,
     "metadata": {},
     "output_type": "execute_result"
    }
   ],
   "source": [
    "esba.drop('year_month',axis=1).mean()"
   ]
  },
  {
   "cell_type": "markdown",
   "id": "5575b3d9-d391-4780-9e72-18f9ae690274",
   "metadata": {},
   "source": [
    "### 其他因子"
   ]
  },
  {
   "cell_type": "markdown",
   "id": "253f0596-deb9-440a-9662-3bd76e89402f",
   "metadata": {
    "tags": []
   },
   "source": [
    "#### rtv"
   ]
  },
  {
   "cell_type": "code",
   "execution_count": 75,
   "id": "7754de1f-c37e-4b76-881c-6e6964c5c6d9",
   "metadata": {
    "tags": []
   },
   "outputs": [],
   "source": [
    "# 价格数据\n",
    "price2 = price1.copy()\n",
    "price2 = price2.drop(['qsba','esba'],axis=1)\n",
    "\n",
    "# 合并indicator\n",
    "rtv = pd.read_csv('.\\\\AMQI\\\\processed\\\\rtv1.csv')\n",
    "rtv = rtv.rename(columns={rtv.columns[0]:'code',\n",
    "                          rtv.columns[1]:'date',\n",
    "                          rtv.columns[2]:'rtv'})\n",
    "rtv['date'] = pd.to_datetime(rtv['date'])\n",
    "rtv['code'] = rtv['code'].astype(str).str.zfill(6)\n",
    "rtv['year'] = rtv.date.dt.year\n",
    "rtv['month'] = rtv.date.dt.month\n",
    "rtv = rtv.drop('date',axis=1)\n",
    "\n",
    "price2 = pd.merge(price2,rtv,on=['code','year','month'],how='left')\n",
    "price2 = price2[(price2.date >= pd.to_datetime('20070601'))] # 确定时间"
   ]
  },
  {
   "cell_type": "code",
   "execution_count": 76,
   "id": "00187d25-54d3-4226-863c-791ff00b48ed",
   "metadata": {
    "tags": []
   },
   "outputs": [
    {
     "name": "stderr",
     "output_type": "stream",
     "text": [
      "100%|███████████████████████████████████████████████████████████████████████████████████| 4/4 [00:00<00:00, 101.13it/s]\n",
      "0it [00:00, ?it/s]\n",
      "0it [00:00, ?it/s]\n",
      "0it [00:00, ?it/s]\n",
      "100%|████████████████████████████████████████████████████████████████████████████████████| 4/4 [00:00<00:00, 89.83it/s]\n",
      "100%|████████████████████████████████████████████████████████████████████████████████████| 2/2 [00:00<00:00,  6.44it/s]\n",
      "100%|████████████████████████████████████████████████████████████████████████████████████| 2/2 [00:00<00:00,  7.44it/s]\n",
      "100%|████████████████████████████████████████████████████████████████████████████████████| 2/2 [00:00<00:00, 10.12it/s]\n",
      "100%|████████████████████████████████████████████████████████████████████████████████████| 2/2 [00:02<00:00,  1.10s/it]\n",
      "100%|███████████████████████████████████████████████████████████████████████████████████| 4/4 [00:00<00:00, 114.15it/s]\n",
      "100%|████████████████████████████████████████████████████████████████████████████████████| 5/5 [00:00<00:00,  6.25it/s]\n",
      "100%|████████████████████████████████████████████████████████████████████████████████████| 5/5 [00:01<00:00,  4.86it/s]\n",
      "100%|████████████████████████████████████████████████████████████████████████████████████| 5/5 [00:00<00:00,  8.41it/s]\n",
      "100%|████████████████████████████████████████████████████████████████████████████████████| 5/5 [00:05<00:00,  1.14s/it]\n",
      "100%|████████████████████████████████████████████████████████████████████████████████████| 4/4 [00:00<00:00, 94.03it/s]\n",
      "100%|████████████████████████████████████████████████████████████████████████████████████| 8/8 [00:01<00:00,  7.73it/s]\n",
      "100%|████████████████████████████████████████████████████████████████████████████████████| 8/8 [00:01<00:00,  5.74it/s]\n",
      "100%|████████████████████████████████████████████████████████████████████████████████████| 8/8 [00:00<00:00, 10.01it/s]\n",
      "100%|████████████████████████████████████████████████████████████████████████████████████| 8/8 [00:07<00:00,  1.03it/s]\n",
      "100%|████████████████████████████████████████████████████████████████████████████████████| 4/4 [00:00<00:00, 95.45it/s]\n",
      "100%|██████████████████████████████████████████████████████████████████████████████████| 11/11 [00:01<00:00,  6.66it/s]\n",
      "100%|██████████████████████████████████████████████████████████████████████████████████| 11/11 [00:01<00:00,  6.84it/s]\n",
      "100%|██████████████████████████████████████████████████████████████████████████████████| 11/11 [00:01<00:00,  8.97it/s]\n",
      "100%|██████████████████████████████████████████████████████████████████████████████████| 11/11 [00:11<00:00,  1.07s/it]\n"
     ]
    }
   ],
   "source": [
    "# 根据 rtv 计算分组\n",
    "# 1月\n",
    "sort_col = 'rtv'\n",
    "df = price2.copy()\n",
    "g_num = 5\n",
    "hold_m = 1\n",
    "\n",
    "rtv_ind, rtv = portfolio_sort(df,sort_col,g_num,hold_m,True)\n",
    "rtv_ind.to_csv('.\\\\AMQI\\\\output\\\\indicator\\\\rtv_indicators.csv')\n",
    "rtv.to_csv('.\\\\AMQI\\\\output\\\\return\\\\rtv.csv')\n",
    "\n",
    "# 3月\n",
    "sort_col = 'rtv'\n",
    "df = price2.copy()\n",
    "g_num = 5\n",
    "hold_m = 3\n",
    "\n",
    "rtv_ind, rtv = portfolio_sort(df,sort_col,g_num,hold_m,True)\n",
    "rtv_ind.to_csv('.\\\\AMQI\\\\output\\\\indicator\\\\rtv3_indicators.csv')\n",
    "rtv.to_csv('.\\\\AMQI\\\\output\\\\return\\\\rtv3.csv')\n",
    "\n",
    "# 6月\n",
    "sort_col = 'rtv'\n",
    "df = price2.copy()\n",
    "g_num = 5\n",
    "hold_m = 6\n",
    "\n",
    "rtv_ind, rtv = portfolio_sort(df,sort_col,g_num,hold_m,True)\n",
    "rtv_ind.to_csv('.\\\\AMQI\\\\output\\\\indicator\\\\rtv6_indicators.csv')\n",
    "rtv.to_csv('.\\\\AMQI\\\\output\\\\return\\\\rtv6.csv')\n",
    "\n",
    "# 9月\n",
    "sort_col = 'rtv'\n",
    "df = price2.copy()\n",
    "g_num = 5\n",
    "hold_m = 9\n",
    "\n",
    "rtv_ind, rtv = portfolio_sort(df,sort_col,g_num,hold_m,True)\n",
    "rtv_ind.to_csv('.\\\\AMQI\\\\output\\\\indicator\\\\rtv9_indicators.csv')\n",
    "rtv.to_csv('.\\\\AMQI\\\\output\\\\return\\\\rtv9.csv')\n",
    "\n",
    "# 12月\n",
    "sort_col = 'rtv'\n",
    "df = price2.copy()\n",
    "g_num = 5\n",
    "hold_m = 12\n",
    "\n",
    "rtv_ind, rtv = portfolio_sort(df,sort_col,g_num,hold_m,True)\n",
    "rtv_ind.to_csv('.\\\\AMQI\\\\output\\\\indicator\\\\rtv12_indicators.csv')\n",
    "rtv.to_csv('.\\\\AMQI\\\\output\\\\return\\\\rtv12.csv')"
   ]
  },
  {
   "cell_type": "code",
   "execution_count": 77,
   "id": "56e94ec2-86af-416e-95f3-4a59553a70c1",
   "metadata": {
    "tags": []
   },
   "outputs": [
    {
     "data": {
      "text/plain": [
       "return_long_eq      0.010771\n",
       "return_short_eq    -0.005359\n",
       "risk_free_month     0.001767\n",
       "return_spread_eq    0.016130\n",
       "return_long_mv      0.020155\n",
       "return_short_mv     0.003631\n",
       "return_spread_mv    0.016524\n",
       "dtype: float64"
      ]
     },
     "execution_count": 77,
     "metadata": {},
     "output_type": "execute_result"
    }
   ],
   "source": [
    "rtv.drop('year_month',axis=1).mean()"
   ]
  },
  {
   "cell_type": "markdown",
   "id": "63a555d2-dc41-4045-a7ad-8422c63befab",
   "metadata": {},
   "source": [
    "#### pps"
   ]
  },
  {
   "cell_type": "code",
   "execution_count": 78,
   "id": "1b15c2db-cdef-4828-ba78-6086a3bc699e",
   "metadata": {
    "tags": []
   },
   "outputs": [],
   "source": [
    "# 价格数据\n",
    "price3 = price1.copy()\n",
    "price3 = price3.drop(['qsba','esba'],axis=1)\n",
    "\n",
    "# 合并indicator\n",
    "pps = pd.read_csv('.\\\\AMQI\\\\processed\\\\pps1.csv')\n",
    "pps = pps.rename(columns={pps.columns[0]:'code',\n",
    "                          pps.columns[1]:'date',\n",
    "                          pps.columns[2]:'pps'})\n",
    "pps['date'] = pd.to_datetime(pps['date'])\n",
    "pps['code'] = pps['code'].astype(str).str.zfill(6)\n",
    "pps['year'] = pps.date.dt.year\n",
    "pps['month'] = pps.date.dt.month\n",
    "pps = pps.drop('date',axis=1)\n",
    "\n",
    "price3 = pd.merge(price3,pps,on=['code','year','month'],how='left')\n",
    "price3 = price3[(price3.date >= pd.to_datetime('20070601'))] # 确定时间"
   ]
  },
  {
   "cell_type": "code",
   "execution_count": 79,
   "id": "fcabe761-c595-4cf9-9555-3e78e683aea7",
   "metadata": {
    "tags": []
   },
   "outputs": [
    {
     "name": "stderr",
     "output_type": "stream",
     "text": [
      "100%|███████████████████████████████████████████████████████████████████████████████████| 4/4 [00:00<00:00, 109.04it/s]\n",
      "0it [00:00, ?it/s]\n",
      "0it [00:00, ?it/s]\n",
      "0it [00:00, ?it/s]\n",
      "100%|████████████████████████████████████████████████████████████████████████████████████| 4/4 [00:00<00:00, 98.55it/s]\n",
      "100%|████████████████████████████████████████████████████████████████████████████████████| 2/2 [00:00<00:00,  5.17it/s]\n",
      "100%|████████████████████████████████████████████████████████████████████████████████████| 2/2 [00:00<00:00,  6.04it/s]\n",
      "100%|████████████████████████████████████████████████████████████████████████████████████| 2/2 [00:00<00:00,  9.02it/s]\n",
      "100%|████████████████████████████████████████████████████████████████████████████████████| 2/2 [00:02<00:00,  1.25s/it]\n",
      "100%|████████████████████████████████████████████████████████████████████████████████████| 4/4 [00:00<00:00, 67.33it/s]\n",
      "100%|████████████████████████████████████████████████████████████████████████████████████| 5/5 [00:00<00:00,  7.98it/s]\n",
      "100%|████████████████████████████████████████████████████████████████████████████████████| 5/5 [00:00<00:00,  7.06it/s]\n",
      "100%|████████████████████████████████████████████████████████████████████████████████████| 5/5 [00:00<00:00,  8.24it/s]\n",
      "100%|████████████████████████████████████████████████████████████████████████████████████| 5/5 [00:05<00:00,  1.00s/it]\n",
      "100%|███████████████████████████████████████████████████████████████████████████████████| 4/4 [00:00<00:00, 106.97it/s]\n",
      "100%|████████████████████████████████████████████████████████████████████████████████████| 8/8 [00:01<00:00,  7.34it/s]\n",
      "100%|████████████████████████████████████████████████████████████████████████████████████| 8/8 [00:01<00:00,  5.59it/s]\n",
      "100%|████████████████████████████████████████████████████████████████████████████████████| 8/8 [00:00<00:00, 11.69it/s]\n",
      "100%|████████████████████████████████████████████████████████████████████████████████████| 8/8 [00:07<00:00,  1.08it/s]\n",
      "100%|████████████████████████████████████████████████████████████████████████████████████| 4/4 [00:00<00:00, 99.28it/s]\n",
      "100%|██████████████████████████████████████████████████████████████████████████████████| 11/11 [00:01<00:00,  6.01it/s]\n",
      "100%|██████████████████████████████████████████████████████████████████████████████████| 11/11 [00:01<00:00,  7.28it/s]\n",
      "100%|██████████████████████████████████████████████████████████████████████████████████| 11/11 [00:01<00:00,  8.74it/s]\n",
      "100%|██████████████████████████████████████████████████████████████████████████████████| 11/11 [00:11<00:00,  1.02s/it]\n"
     ]
    }
   ],
   "source": [
    "# 根据 rtv 计算分组\n",
    "# 1月\n",
    "sort_col = 'pps'\n",
    "df = price3.copy()\n",
    "g_num = 5\n",
    "hold_m = 1\n",
    "\n",
    "pps_ind, pps = portfolio_sort(df,sort_col,g_num,hold_m,True)\n",
    "pps_ind.to_csv('.\\\\AMQI\\\\output\\\\indicator\\\\pps_indicators.csv')\n",
    "pps.to_csv('.\\\\AMQI\\\\output\\\\return\\\\pps.csv')\n",
    "\n",
    "# 3月\n",
    "sort_col = 'pps'\n",
    "df = price3.copy()\n",
    "g_num = 5\n",
    "hold_m = 3\n",
    "\n",
    "pps_ind, pps = portfolio_sort(df,sort_col,g_num,hold_m,True)\n",
    "pps_ind.to_csv('.\\\\AMQI\\\\output\\\\indicator\\\\pps3_indicators.csv')\n",
    "pps.to_csv('.\\\\AMQI\\\\output\\\\return\\\\pps3.csv')\n",
    "\n",
    "# 6月\n",
    "sort_col = 'pps'\n",
    "df = price3.copy()\n",
    "g_num = 5\n",
    "hold_m = 6\n",
    "\n",
    "pps_ind, pps = portfolio_sort(df,sort_col,g_num,hold_m,True)\n",
    "pps_ind.to_csv('.\\\\AMQI\\\\output\\\\indicator\\\\pps6_indicators.csv')\n",
    "pps.to_csv('.\\\\AMQI\\\\output\\\\return\\\\pps6.csv')\n",
    "\n",
    "# 9月\n",
    "sort_col = 'pps'\n",
    "df = price3.copy()\n",
    "g_num = 5\n",
    "hold_m = 9\n",
    "\n",
    "pps_ind, pps = portfolio_sort(df,sort_col,g_num,hold_m,True)\n",
    "pps_ind.to_csv('.\\\\AMQI\\\\output\\\\indicator\\\\pps9_indicators.csv')\n",
    "pps.to_csv('.\\\\AMQI\\\\output\\\\return\\\\pps9.csv')\n",
    "\n",
    "# 12月\n",
    "sort_col = 'pps'\n",
    "df = price3.copy()\n",
    "g_num = 5\n",
    "hold_m = 12\n",
    "\n",
    "pps_ind, pps = portfolio_sort(df,sort_col,g_num,hold_m,True)\n",
    "pps_ind.to_csv('.\\\\AMQI\\\\output\\\\indicator\\\\pps12_indicators.csv')\n",
    "pps.to_csv('.\\\\AMQI\\\\output\\\\return\\\\pps12.csv')"
   ]
  },
  {
   "cell_type": "code",
   "execution_count": 80,
   "id": "b6fe0ee9-0e35-4186-a3d6-e25ac30b4d97",
   "metadata": {
    "tags": []
   },
   "outputs": [
    {
     "data": {
      "text/plain": [
       "return_long_eq      0.008850\n",
       "return_short_eq    -0.006660\n",
       "risk_free_month     0.001767\n",
       "return_spread_eq    0.015510\n",
       "return_long_mv      0.009434\n",
       "return_short_mv     0.003554\n",
       "return_spread_mv    0.005880\n",
       "dtype: float64"
      ]
     },
     "execution_count": 80,
     "metadata": {},
     "output_type": "execute_result"
    }
   ],
   "source": [
    "pps.drop('year_month',axis=1).mean()"
   ]
  },
  {
   "cell_type": "markdown",
   "id": "597aaeca-0eba-4c72-81d4-66037cfee209",
   "metadata": {},
   "source": [
    "#### Me"
   ]
  },
  {
   "cell_type": "code",
   "execution_count": 81,
   "id": "f42d881d-8782-4c7d-ae61-0ebc4300ceaa",
   "metadata": {
    "tags": []
   },
   "outputs": [],
   "source": [
    "# 价格数据\n",
    "price4 = price1.copy()\n",
    "price4 = price4.drop(['qsba','esba'],axis=1)\n",
    "\n",
    "# 合并indicator\n",
    "me = price4[['code','year','month','market_value']]\n",
    "me = me.rename(columns={'market_value':'me'})\n",
    "me = me[me.month==6]\n",
    "\n",
    "price4 = pd.merge(price4,me,on=['code','year','month'],how='left')\n",
    "price4['me'] = price4.groupby(['code'])['me'].ffill() # 年更新，接下来一个财政年均使用相同的数值分组\n",
    "price4 = price4[(price4.date >= pd.to_datetime('20070601'))] # 确定时间"
   ]
  },
  {
   "cell_type": "code",
   "execution_count": 82,
   "id": "93375521-22c4-4407-90b4-ff98c12746c3",
   "metadata": {
    "tags": []
   },
   "outputs": [
    {
     "name": "stderr",
     "output_type": "stream",
     "text": [
      "100%|███████████████████████████████████████████████████████████████████████████████████| 4/4 [00:00<00:00, 107.36it/s]\n",
      "0it [00:00, ?it/s]\n",
      "0it [00:00, ?it/s]\n",
      "0it [00:00, ?it/s]\n"
     ]
    }
   ],
   "source": [
    "# 根据 me 计算分组\n",
    "sort_col = 'me'\n",
    "df = price4.copy()\n",
    "g_num = 5\n",
    "hold_m = 1\n",
    "\n",
    "me_ind, me = portfolio_sort(df,sort_col,g_num,hold_m,True)\n",
    "me_ind.to_csv('.\\\\AMQI\\\\output\\\\indicator\\\\me_indicators.csv')\n",
    "me.to_csv('.\\\\AMQI\\\\output\\\\return\\\\me.csv')"
   ]
  },
  {
   "cell_type": "code",
   "execution_count": 83,
   "id": "23ed0d9d-0c0e-4dce-8e9b-4d8e35546b7a",
   "metadata": {
    "tags": []
   },
   "outputs": [
    {
     "data": {
      "text/plain": [
       "return_long_eq      0.007775\n",
       "return_short_eq    -0.002204\n",
       "risk_free_month     0.001843\n",
       "return_spread_eq    0.009980\n",
       "return_long_mv      0.018633\n",
       "return_short_mv     0.005025\n",
       "return_spread_mv    0.013608\n",
       "dtype: float64"
      ]
     },
     "execution_count": 83,
     "metadata": {},
     "output_type": "execute_result"
    }
   ],
   "source": [
    "me.drop('year_month',axis=1).mean()"
   ]
  },
  {
   "cell_type": "markdown",
   "id": "d5462f5f-4a6b-4e1c-85a8-de336e76f7d2",
   "metadata": {
    "tags": []
   },
   "source": [
    "#### droa"
   ]
  },
  {
   "cell_type": "code",
   "execution_count": 84,
   "id": "97600131-270f-4091-aeea-3f4aa02b9dd6",
   "metadata": {
    "tags": []
   },
   "outputs": [],
   "source": [
    "# 价格数据\n",
    "price5 = price1.copy()\n",
    "price5 = price5.drop(['qsba','esba'],axis=1)\n",
    "\n",
    "# 合并indicator\n",
    "droa = pd.read_csv('.\\\\AMQI\\\\processed\\\\droa_final.csv',index_col=0)\n",
    "droa['code'] = droa['code'].astype(str).str.zfill(6)\n",
    "\n",
    "price5 = pd.merge(price5,droa,on=['code','year','month'],how='left')\n",
    "price5['droa'] = price5.groupby(['code'])['droa'].ffill() # 年更新，接下来一个财政年均使用相同的数值分组\n",
    "price5 = price5[(price5.date >= pd.to_datetime('20070601'))] # 确定时间"
   ]
  },
  {
   "cell_type": "code",
   "execution_count": 85,
   "id": "a825cbdd-8e98-4b5b-858d-a303e906a90f",
   "metadata": {
    "tags": []
   },
   "outputs": [
    {
     "name": "stderr",
     "output_type": "stream",
     "text": [
      "100%|████████████████████████████████████████████████████████████████████████████████████| 4/4 [00:00<00:00, 77.22it/s]\n",
      "0it [00:00, ?it/s]\n",
      "0it [00:00, ?it/s]\n",
      "0it [00:00, ?it/s]\n"
     ]
    }
   ],
   "source": [
    "# 根据 droa 计算分组\n",
    "sort_col = 'droa'\n",
    "df = price5.copy()\n",
    "g_num = 5\n",
    "hold_m = 1\n",
    "\n",
    "droa_ind, droa = portfolio_sort(df,sort_col,g_num,hold_m)\n",
    "droa_ind.to_csv('.\\\\AMQI\\\\output\\\\indicator\\\\droa_indicators.csv')\n",
    "droa.to_csv('.\\\\AMQI\\\\output\\\\return\\\\droa.csv')"
   ]
  },
  {
   "cell_type": "markdown",
   "id": "3dafa0fe-7328-4bd3-bfbb-af1582938e50",
   "metadata": {
    "tags": []
   },
   "source": [
    "#### Amihud & dfin"
   ]
  },
  {
   "cell_type": "code",
   "execution_count": 86,
   "id": "7699a514-1994-4ea5-8189-05ff171b9f3c",
   "metadata": {
    "tags": []
   },
   "outputs": [],
   "source": [
    "def data_modify(df):\n",
    "    df = df.rename(columns={'anomaly_return_mv_rf':'return_spread_mv',\n",
    "                            'anomaly_return_eq_rf':'return_spread_eq',\n",
    "                            'return_short_mv':'return_long_mv',\n",
    "                            'return_long_mv':'return_short_mv',\n",
    "                            'return_short_eq':'return_long_eq',\n",
    "                            'return_long_eq':'return_short_eq',}) # 调整列名\n",
    "\n",
    "    # 调整数值\n",
    "    df['return_short_mv'] = df['return_short_mv'] - df['risk_free_month']\n",
    "    df['return_long_mv'] = df['return_long_mv'] - df['risk_free_month']\n",
    "    df['return_short_eq'] = df['return_short_eq'] - df['risk_free_month']\n",
    "    df['return_long_eq'] = df['return_long_eq'] - df['risk_free_month']\n",
    "    df['return_spread_mv'] = df['return_long_mv'] - df['return_short_mv']\n",
    "    df['return_spread_eq'] = df['return_long_eq'] - df['return_short_eq']\n",
    "    \n",
    "    # 调整日期\n",
    "    df['date'] = pd.to_datetime(df['year_month'])\n",
    "    df = df[df['date'] >= pd.to_datetime('20070601')]\n",
    "    df = df.drop('date',axis=1)\n",
    "    return df"
   ]
  },
  {
   "cell_type": "code",
   "execution_count": 87,
   "id": "6c7620aa-1bf0-468a-9c22-16349360170d",
   "metadata": {
    "tags": []
   },
   "outputs": [],
   "source": [
    "ami = pd.read_excel('.\\\\AMQI\\\\pjoutput\\\\ami3.xlsx')\n",
    "data_modify(ami).to_csv('.\\\\AMQI\\\\output\\\\return\\\\ami3.csv')\n",
    "\n",
    "ami = pd.read_excel('.\\\\AMQI\\\\pjoutput\\\\ami6.xlsx')\n",
    "data_modify(ami).to_csv('.\\\\AMQI\\\\output\\\\return\\\\ami6.csv')\n",
    "\n",
    "ami = pd.read_excel('.\\\\AMQI\\\\pjoutput\\\\ami9.xlsx')\n",
    "data_modify(ami).to_csv('.\\\\AMQI\\\\output\\\\return\\\\ami9.csv')\n",
    "\n",
    "ami = pd.read_excel('.\\\\AMQI\\\\pjoutput\\\\ami12.xlsx')\n",
    "data_modify(ami).to_csv('.\\\\AMQI\\\\output\\\\return\\\\ami12.csv')\n",
    "\n",
    "dfin = pd.read_excel('.\\\\AMQI\\\\pjoutput\\\\dfin_standardized.xlsx')\n",
    "data_modify(dfin).to_csv('.\\\\AMQI\\\\output\\\\return\\\\dfin.csv')"
   ]
  },
  {
   "cell_type": "markdown",
   "id": "b3d4de4f-aa8a-4e89-8b75-6e61a04701a0",
   "metadata": {},
   "source": [
    "查看月度收益率"
   ]
  },
  {
   "cell_type": "code",
   "execution_count": 191,
   "id": "5ca71ad6-332d-4923-86a2-0662363c5fdb",
   "metadata": {
    "tags": []
   },
   "outputs": [
    {
     "data": {
      "text/plain": [
       "year               2015.286432\n",
       "month                 6.562814\n",
       "long                  0.003875\n",
       "short                 0.020761\n",
       "risk_free_month       0.001846\n",
       "spread               -0.016886\n",
       "dtype: float64"
      ]
     },
     "execution_count": 191,
     "metadata": {},
     "output_type": "execute_result"
    }
   ],
   "source": [
    "rtv_vw.mean()"
   ]
  },
  {
   "cell_type": "code",
   "execution_count": 166,
   "id": "5ef9b3c3-7543-46fd-bb56-58b70b0e9785",
   "metadata": {
    "tags": []
   },
   "outputs": [
    {
     "data": {
      "text/plain": [
       "(132, 6)"
      ]
     },
     "execution_count": 166,
     "metadata": {},
     "output_type": "execute_result"
    }
   ],
   "source": [
    "qsba1 = qsba_vw.iloc[qsba_vw[(qsba_vw.year==2008) & (qsba_vw.month==7)].index[0]:\n",
    "                     qsba_vw[(qsba_vw.year==2019) & (qsba_vw.month==7)].index[0],:]\n",
    "qsba1.shape"
   ]
  },
  {
   "cell_type": "code",
   "execution_count": 167,
   "id": "1503293b-d340-4281-8c67-d38b11bf74ea",
   "metadata": {
    "tags": []
   },
   "outputs": [
    {
     "data": {
      "text/plain": [
       "year               2015.000000\n",
       "month                 6.500000\n",
       "long                  0.012871\n",
       "short                 0.000087\n",
       "risk_free_month       0.001857\n",
       "spread                0.012784\n",
       "dtype: float64"
      ]
     },
     "execution_count": 167,
     "metadata": {},
     "output_type": "execute_result"
    }
   ],
   "source": [
    "qsba_vw.mean()"
   ]
  },
  {
   "cell_type": "code",
   "execution_count": 169,
   "id": "6d67b3a9-80d0-4727-ac34-04e9b03ae7eb",
   "metadata": {
    "tags": []
   },
   "outputs": [
    {
     "data": {
      "text/plain": [
       "year               2014.626728\n",
       "month                 6.479263\n",
       "long                  0.016244\n",
       "short                 0.001748\n",
       "risk_free_month       0.001859\n",
       "spread                0.014496\n",
       "dtype: float64"
      ]
     },
     "execution_count": 169,
     "metadata": {},
     "output_type": "execute_result"
    }
   ],
   "source": [
    "esba1 = esba_vw.iloc[esba_vw[(esba_vw.year==2008) & (esba_vw.month==7)].index[0]:\n",
    "                     esba_vw[(esba_vw.year==2019) & (esba_vw.month==7)].index[0],:]\n",
    "esba_vw.mean()"
   ]
  },
  {
   "cell_type": "code",
   "execution_count": 46,
   "id": "2d1f5397-f04b-4429-b660-cdbac1ae8a33",
   "metadata": {},
   "outputs": [],
   "source": [
    "a = pd.read_pickle('.\\\\AMQI\\\\raw\\\\price_month.pkl')"
   ]
  },
  {
   "cell_type": "code",
   "execution_count": 49,
   "id": "787b0225-df6a-42ea-8487-e698d2abd349",
   "metadata": {
    "tags": []
   },
   "outputs": [
    {
     "data": {
      "text/html": [
       "<div>\n",
       "<style scoped>\n",
       "    .dataframe tbody tr th:only-of-type {\n",
       "        vertical-align: middle;\n",
       "    }\n",
       "\n",
       "    .dataframe tbody tr th {\n",
       "        vertical-align: top;\n",
       "    }\n",
       "\n",
       "    .dataframe thead th {\n",
       "        text-align: right;\n",
       "    }\n",
       "</style>\n",
       "<table border=\"1\" class=\"dataframe\">\n",
       "  <thead>\n",
       "    <tr style=\"text-align: right;\">\n",
       "      <th></th>\n",
       "      <th>code</th>\n",
       "      <th>date</th>\n",
       "      <th>close_price</th>\n",
       "      <th>market_value</th>\n",
       "      <th>market</th>\n",
       "      <th>risk_free</th>\n",
       "      <th>total_value</th>\n",
       "      <th>return</th>\n",
       "      <th>market_value_weighted</th>\n",
       "    </tr>\n",
       "  </thead>\n",
       "  <tbody>\n",
       "    <tr>\n",
       "      <th>123526</th>\n",
       "      <td>000001</td>\n",
       "      <td>2006-01-25</td>\n",
       "      <td>6.35</td>\n",
       "      <td>8949448.48</td>\n",
       "      <td>0.005655</td>\n",
       "      <td>0.000061</td>\n",
       "      <td>12355970.65</td>\n",
       "      <td>0.034202</td>\n",
       "      <td>8653482.47</td>\n",
       "    </tr>\n",
       "    <tr>\n",
       "      <th>124693</th>\n",
       "      <td>000001</td>\n",
       "      <td>2006-02-28</td>\n",
       "      <td>6.84</td>\n",
       "      <td>9640035.84</td>\n",
       "      <td>0.003393</td>\n",
       "      <td>0.000061</td>\n",
       "      <td>13309423.50</td>\n",
       "      <td>0.077165</td>\n",
       "      <td>8949448.48</td>\n",
       "    </tr>\n",
       "    <tr>\n",
       "      <th>125838</th>\n",
       "      <td>000001</td>\n",
       "      <td>2006-03-31</td>\n",
       "      <td>6.37</td>\n",
       "      <td>8977635.72</td>\n",
       "      <td>0.005847</td>\n",
       "      <td>0.000061</td>\n",
       "      <td>12394887.09</td>\n",
       "      <td>-0.068713</td>\n",
       "      <td>9640035.84</td>\n",
       "    </tr>\n",
       "    <tr>\n",
       "      <th>126954</th>\n",
       "      <td>000001</td>\n",
       "      <td>2006-04-28</td>\n",
       "      <td>7.88</td>\n",
       "      <td>11105772.28</td>\n",
       "      <td>0.017035</td>\n",
       "      <td>0.000061</td>\n",
       "      <td>15333078.53</td>\n",
       "      <td>0.237049</td>\n",
       "      <td>8977635.72</td>\n",
       "    </tr>\n",
       "    <tr>\n",
       "      <th>129161</th>\n",
       "      <td>000001</td>\n",
       "      <td>2006-06-30</td>\n",
       "      <td>7.56</td>\n",
       "      <td>10654776.46</td>\n",
       "      <td>-0.001261</td>\n",
       "      <td>0.000061</td>\n",
       "      <td>14710415.45</td>\n",
       "      <td>-0.040609</td>\n",
       "      <td>11105772.28</td>\n",
       "    </tr>\n",
       "    <tr>\n",
       "      <th>130222</th>\n",
       "      <td>000001</td>\n",
       "      <td>2006-07-31</td>\n",
       "      <td>6.72</td>\n",
       "      <td>9470912.40</td>\n",
       "      <td>-0.041587</td>\n",
       "      <td>0.000061</td>\n",
       "      <td>13075924.84</td>\n",
       "      <td>-0.111111</td>\n",
       "      <td>10654776.46</td>\n",
       "    </tr>\n",
       "    <tr>\n",
       "      <th>131407</th>\n",
       "      <td>000001</td>\n",
       "      <td>2006-08-31</td>\n",
       "      <td>7.23</td>\n",
       "      <td>10189687.01</td>\n",
       "      <td>0.004348</td>\n",
       "      <td>0.000068</td>\n",
       "      <td>14068294.14</td>\n",
       "      <td>0.075893</td>\n",
       "      <td>9470912.40</td>\n",
       "    </tr>\n",
       "    <tr>\n",
       "      <th>132653</th>\n",
       "      <td>000001</td>\n",
       "      <td>2006-09-29</td>\n",
       "      <td>8.16</td>\n",
       "      <td>11500393.63</td>\n",
       "      <td>0.011751</td>\n",
       "      <td>0.000068</td>\n",
       "      <td>15877908.74</td>\n",
       "      <td>0.128631</td>\n",
       "      <td>10189687.01</td>\n",
       "    </tr>\n",
       "    <tr>\n",
       "      <th>133916</th>\n",
       "      <td>000001</td>\n",
       "      <td>2006-10-31</td>\n",
       "      <td>9.55</td>\n",
       "      <td>13459406.77</td>\n",
       "      <td>0.011937</td>\n",
       "      <td>0.000068</td>\n",
       "      <td>18582601.52</td>\n",
       "      <td>0.170343</td>\n",
       "      <td>11500393.63</td>\n",
       "    </tr>\n",
       "    <tr>\n",
       "      <th>135195</th>\n",
       "      <td>000001</td>\n",
       "      <td>2006-11-30</td>\n",
       "      <td>12.65</td>\n",
       "      <td>17828428.86</td>\n",
       "      <td>0.024801</td>\n",
       "      <td>0.000068</td>\n",
       "      <td>24614650.18</td>\n",
       "      <td>0.324607</td>\n",
       "      <td>13459406.77</td>\n",
       "    </tr>\n",
       "    <tr>\n",
       "      <th>136487</th>\n",
       "      <td>000001</td>\n",
       "      <td>2006-12-29</td>\n",
       "      <td>14.47</td>\n",
       "      <td>20393467.63</td>\n",
       "      <td>0.025776</td>\n",
       "      <td>0.000068</td>\n",
       "      <td>28156046.50</td>\n",
       "      <td>0.143874</td>\n",
       "      <td>17828428.86</td>\n",
       "    </tr>\n",
       "  </tbody>\n",
       "</table>\n",
       "</div>"
      ],
      "text/plain": [
       "          code       date  close_price  market_value    market  risk_free  \\\n",
       "123526  000001 2006-01-25         6.35    8949448.48  0.005655   0.000061   \n",
       "124693  000001 2006-02-28         6.84    9640035.84  0.003393   0.000061   \n",
       "125838  000001 2006-03-31         6.37    8977635.72  0.005847   0.000061   \n",
       "126954  000001 2006-04-28         7.88   11105772.28  0.017035   0.000061   \n",
       "129161  000001 2006-06-30         7.56   10654776.46 -0.001261   0.000061   \n",
       "130222  000001 2006-07-31         6.72    9470912.40 -0.041587   0.000061   \n",
       "131407  000001 2006-08-31         7.23   10189687.01  0.004348   0.000068   \n",
       "132653  000001 2006-09-29         8.16   11500393.63  0.011751   0.000068   \n",
       "133916  000001 2006-10-31         9.55   13459406.77  0.011937   0.000068   \n",
       "135195  000001 2006-11-30        12.65   17828428.86  0.024801   0.000068   \n",
       "136487  000001 2006-12-29        14.47   20393467.63  0.025776   0.000068   \n",
       "\n",
       "        total_value    return  market_value_weighted  \n",
       "123526  12355970.65  0.034202             8653482.47  \n",
       "124693  13309423.50  0.077165             8949448.48  \n",
       "125838  12394887.09 -0.068713             9640035.84  \n",
       "126954  15333078.53  0.237049             8977635.72  \n",
       "129161  14710415.45 -0.040609            11105772.28  \n",
       "130222  13075924.84 -0.111111            10654776.46  \n",
       "131407  14068294.14  0.075893             9470912.40  \n",
       "132653  15877908.74  0.128631            10189687.01  \n",
       "133916  18582601.52  0.170343            11500393.63  \n",
       "135195  24614650.18  0.324607            13459406.77  \n",
       "136487  28156046.50  0.143874            17828428.86  "
      ]
     },
     "execution_count": 49,
     "metadata": {},
     "output_type": "execute_result"
    }
   ],
   "source": [
    "a[(a.code=='000001') & (a.date.dt.year==2006)]"
   ]
  },
  {
   "cell_type": "code",
   "execution_count": null,
   "id": "09913cf3-572a-4fe6-a71e-d2b294c9bf5f",
   "metadata": {},
   "outputs": [],
   "source": []
  }
 ],
 "metadata": {
  "kernelspec": {
   "display_name": "Python 3 (ipykernel)",
   "language": "python",
   "name": "python3"
  },
  "language_info": {
   "codemirror_mode": {
    "name": "ipython",
    "version": 3
   },
   "file_extension": ".py",
   "mimetype": "text/x-python",
   "name": "python",
   "nbconvert_exporter": "python",
   "pygments_lexer": "ipython3",
   "version": "3.11.4"
  }
 },
 "nbformat": 4,
 "nbformat_minor": 5
}
