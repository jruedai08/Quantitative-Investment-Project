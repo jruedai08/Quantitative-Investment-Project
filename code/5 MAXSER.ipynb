{
 "cells": [
  {
   "cell_type": "code",
   "execution_count": 1,
   "id": "a092ccd3-5714-4add-88fd-e142cc4b393b",
   "metadata": {
    "tags": []
   },
   "outputs": [],
   "source": [
    "import numpy as np\n",
    "import pandas as pd\n",
    "\n",
    "from scipy.integrate import quad\n",
    "from sklearn.linear_model import Lasso\n",
    "from sklearn.model_selection import train_test_split\n",
    "from sklearn.model_selection import KFold\n",
    "\n",
    "import matplotlib.pyplot as plt\n",
    "\n",
    "from tqdm import tqdm\n",
    "import warnings"
   ]
  },
  {
   "cell_type": "code",
   "execution_count": 2,
   "id": "15727d7c-b27c-414b-9338-ffa7efc68879",
   "metadata": {
    "tags": []
   },
   "outputs": [],
   "source": [
    "def subpool(r,f,subsize,n):\n",
    "    '''\n",
    "    筛选夏普比最大的子股票池\n",
    "    '''\n",
    "    sharpe_pool = [] # 储存所有sharpe比\n",
    "    col_pool = [] # 储存所有columns\n",
    "\n",
    "    # 随机挑选子股票池并循环该过程\n",
    "    for _ in range(n):\n",
    "        #np.random.seed(i) # 设计随机抽样的种子\n",
    "        substock = np.random.choice(r.columns,subsize,replace=False)\n",
    "        col_pool.append(substock)\n",
    "    \n",
    "        total = np.array(pd.concat([f,r[substock]],axis=1)) # 合成total，用以计算总体的sharpe\n",
    "        subsharpe = sharpe(total,adjust=True)\n",
    "        sharpe_pool.append(subsharpe)\n",
    "\n",
    "    # 筛选sharpe比在95%处的投资组合\n",
    "    sharpe_pool = np.array(sharpe_pool)\n",
    "    selected_index = np.where(sharpe_pool >= np.quantile(sharpe_pool,0.95))[0]\n",
    "    selected_index = selected_index[np.argmin(sharpe_pool[selected_index])]\n",
    "    selected_col = col_pool[selected_index]\n",
    "        \n",
    "    return selected_col"
   ]
  },
  {
   "cell_type": "code",
   "execution_count": 3,
   "id": "a27489a1-6cce-4f46-92e8-20be670cac92",
   "metadata": {
    "tags": []
   },
   "outputs": [],
   "source": [
    "def sharpe(r,adjust=False):\n",
    "    '''\n",
    "    获得一个rolling windows的beta值\n",
    "    '''\n",
    "    r = np.array(r) # 调整数据格式\n",
    "    T = r.shape[0]\n",
    "    N = r.shape[1]\n",
    "    \n",
    "    mu = r.mean(axis=0).reshape(-1,1)\n",
    "    SIGMA = np.dot((r - mu.T).T,(r - mu.T))/(T-1)\n",
    "        \n",
    "    # sharpe比\n",
    "    sharpe_s_all = mu.T @ np.linalg.inv(SIGMA) @ mu # 没调整的sharpe比\n",
    "    if adjust:\n",
    "        # 调整sharpe\n",
    "        B = lambda x,a,b:quad(lambda y:(y**(a-1))*((1-y)**(b-1)),0,x)[0]\n",
    "        sharpe_all_adj1 = ((T-N-2)*sharpe_s_all-N)/T\n",
    "        sharpe_all_adj2 = (2*np.power(sharpe_s_all,N/2)*np.power(1+sharpe_s_all,(T-2)/(-2)))\n",
    "        sharpe_all_adj3 = (T*B((sharpe_s_all/(1+sharpe_s_all)),N/2,(T-N)/2))\n",
    "        sharpe_all_adj = sharpe_all_adj1+sharpe_all_adj2/sharpe_all_adj3\n",
    "                            \n",
    "        return sharpe_all_adj[0][0]\n",
    "    else:\n",
    "        return sharpe_s_all[0][0]"
   ]
  },
  {
   "cell_type": "code",
   "execution_count": 4,
   "id": "33d91fd9-6366-424f-abd5-66678da00a98",
   "metadata": {
    "tags": []
   },
   "outputs": [],
   "source": [
    "def sharpe_all(r,f,adjust=False):\n",
    "    '''\n",
    "    由于残差项具有因子结构，故需要单独计算\n",
    "    '''\n",
    "    r = np.array(r)\n",
    "    f = np.array(f)\n",
    "    T = r.shape[0]\n",
    "    N = r.shape[1]\n",
    "    K = f.shape[1]\n",
    "    \n",
    "    mu1 = f.mean(axis=0).reshape(-1,1)\n",
    "    mu2 = r.mean(axis=0).reshape(-1,1)\n",
    "    mu = np.vstack([mu1,mu2])\n",
    "    \n",
    "    # 计算协方差矩阵，由于残差项保留因子结构，因此需要特殊处理\n",
    "    beta,U = OLS(r,f)\n",
    "    SIGMA1 = np.dot((f - mu1.T).T,(f - mu1.T))/(T-1)\n",
    "    SIGMA2 = np.dot(SIGMA1,beta)\n",
    "    SIGMA3 = np.dot(beta.T,SIGMA1)\n",
    "    SIGMA4 = np.dot((r - mu2.T).T,(r - mu2.T))/(T-1)\n",
    "    SIGMA = np.vstack([np.hstack([SIGMA1,SIGMA2]),\n",
    "                       np.hstack([SIGMA3,SIGMA4])])\n",
    "    \n",
    "    # sharpe比\n",
    "    sharpe_s_all = mu.T @ np.linalg.inv(SIGMA) @ mu # 没调整的sharpe比\n",
    "    if adjust:\n",
    "        # 调整sharpe\n",
    "        B = lambda x,a,b:quad(lambda y:(y**(a-1))*((1-y)**(b-1)),0,x)[0]\n",
    "        sharpe_all_adj1 = ((T-N-K-2)*sharpe_s_all-N-K)/T\n",
    "        sharpe_all_adj2 = (2*np.power(sharpe_s_all,(N+K)/2)*np.power(1+sharpe_s_all,(T-2)/(-2)))\n",
    "        print(sharpe_all_adj2)\n",
    "        sharpe_all_adj3 = (T*B((sharpe_s_all/(1+sharpe_s_all)),(N+K)/2,(T-N-K)/2))\n",
    "        print(sharpe_all_adj2/sharpe_all_adj3)\n",
    "        sharpe_all_adj = sharpe_all_adj1+sharpe_all_adj2/sharpe_all_adj3\n",
    "                            \n",
    "        return sharpe_all_adj[0][0]\n",
    "    else:\n",
    "        return sharpe_s_all[0][0]"
   ]
  },
  {
   "cell_type": "code",
   "execution_count": 5,
   "id": "c99dd6e8-dcd6-443c-b3cd-fcc29ae4dd3e",
   "metadata": {
    "tags": []
   },
   "outputs": [],
   "source": [
    "def OLS(B,A):\n",
    "    '''\n",
    "    计算Ax=B的OLS结果\n",
    "    '''\n",
    "    beta = np.linalg.lstsq(np.dot(A.T,A),np.dot(A.T,B),rcond=None)[0]\n",
    "    U = np.array(B) - np.array(A)@beta\n",
    "    return beta,U"
   ]
  },
  {
   "cell_type": "code",
   "execution_count": 6,
   "id": "3a62cfb5-1beb-4dce-afe3-518fc3ce7a78",
   "metadata": {
    "tags": []
   },
   "outputs": [],
   "source": [
    "def mu_sigma(r):\n",
    "    '''\n",
    "    得到一组收益率序列的平均值与协方差矩阵\n",
    "    '''\n",
    "    r = np.array(r) # 调整数据格式\n",
    "    T = r.shape[0]\n",
    "    mu = r.mean(axis=0).reshape(-1,1)\n",
    "    SIGMA = np.dot((r - mu.T).T,(r - mu.T))/(T-1)\n",
    "    return mu,SIGMA"
   ]
  },
  {
   "cell_type": "code",
   "execution_count": 7,
   "id": "000e8baa-7324-445f-a2e2-b095ea228c90",
   "metadata": {
    "tags": []
   },
   "outputs": [],
   "source": [
    "def weight(alpha,U,response_df,r,f,beta,sharpe_all_adj,sharpe_f,sharpe_u_adj):\n",
    "    # train part\n",
    "    lasso = Lasso(alpha=alpha,fit_intercept=False)\n",
    "    lasso.fit(U,response_df)\n",
    "    weight_u = lasso.coef_.reshape(-1,1)\n",
    "        \n",
    "    # weight total\n",
    "    mu_f, SIGMA_f = mu_sigma(f)\n",
    "    weight_f = (np.linalg.inv(SIGMA_f) @ mu_f)/np.sqrt(sharpe_f)\n",
    "    weight_all = risk_constraint * np.vstack((np.sqrt(sharpe_f/sharpe_all_adj)*weight_f-np.sqrt(sharpe_u_adj/sharpe_all_adj)*(beta@weight_u),\n",
    "                                              np.sqrt(sharpe_u_adj/sharpe_all_adj)*weight_u))\n",
    "    return weight_all"
   ]
  },
  {
   "cell_type": "code",
   "execution_count": 8,
   "id": "ed2509c5-a3ff-49fd-87b2-9078779c985f",
   "metadata": {
    "tags": []
   },
   "outputs": [],
   "source": [
    "def weight_all_cal(risk_constraint,n_splits,response,U,r,f,beta,sharpe_all_adj,sharpe_f,sharpe_u_adj):\n",
    "    response_df = np.full(U.shape[0],response)\n",
    "    alpha_list = np.linspace(0.001,0.1,100)\n",
    "    alpha_pool = [] #用于储存最优alpha\n",
    "    kf = KFold(n_splits=n_splits)\n",
    "    for train,test in kf.split(U):\n",
    "        lasso_pool = [] # 用于储存risk和risk_contraint的比对结果,每个结果\n",
    "        for a in alpha_list:\n",
    "            # train part\n",
    "            weight_all =  weight(a,U[train],response_df[train],r.iloc[train],f.iloc[train],beta,sharpe_all_adj,sharpe_f,sharpe_u_adj)\n",
    "            \n",
    "            # 利用test进行检验\n",
    "            total = np.array(pd.concat([f.iloc[train],r.iloc[train]],axis=1))\n",
    "            mu_total, SIGMA_total = mu_sigma(total)\n",
    "            MAE = np.abs(weight_all.T@SIGMA_total@weight_all - risk_constraint**2)[0][0]\n",
    "            \n",
    "            lasso_pool.append(MAE)\n",
    "        \n",
    "        # 选出MAE最小的alpha\n",
    "        lasso_pool = np.array(lasso_pool)\n",
    "        i = np.where(lasso_pool == lasso_pool.min())[0][0]\n",
    "        alpha_pool.append(alpha_list[i])\n",
    "\n",
    "    # 选出最终的alpha\n",
    "    alpha = np.array(alpha_pool).mean()\n",
    "    weight_all = weight(alpha,U,response_df,r,f,beta,sharpe_all_adj,sharpe_f,sharpe_u_adj)\n",
    "    return weight_all/weight_all.sum()"
   ]
  },
  {
   "cell_type": "code",
   "execution_count": 9,
   "id": "36788588-b42e-4e97-b4e6-bd61d8f3fa7e",
   "metadata": {
    "tags": []
   },
   "outputs": [],
   "source": [
    "def optimal_portfolio(data,subsize,n,risk_constraint,n_splits,factor_list):\n",
    "    data = data.drop('date',axis=1)\n",
    "    stock = data.drop(factor_list,axis=1)\n",
    "    factor = data[factor_list]\n",
    "\n",
    "    # 计入函数的部分\n",
    "    r = stock.dropna(axis=1)\n",
    "    f = factor.dropna(axis=1)\n",
    "    total = np.array(pd.concat([f,r],axis=1))\n",
    "\n",
    "    # Step 0\n",
    "    selected_col = subpool(r,f,subsize,n)\n",
    "    r = r[selected_col] # renew stocks\n",
    "\n",
    "    # Step 1\n",
    "    beta, U = OLS(r,f)\n",
    "\n",
    "    # Step 2\n",
    "    total = np.array(pd.concat([f,r],axis=1))\n",
    "    sharpe_all_adj = sharpe(total,adjust=True)\n",
    "    sharpe_f = sharpe(f)\n",
    "    sharpe_u_adj = sharpe_all_adj - sharpe_f\n",
    "    \n",
    "    if sharpe_u_adj < 0:\n",
    "        sharpe_all_adj = sharpe(total,adjust=False)\n",
    "        sharpe_u_adj = sharpe_all_adj - sharpe_f\n",
    "    \n",
    "    response = (1+sharpe_u_adj)/np.sqrt(sharpe_u_adj)\n",
    "\n",
    "    # Step 3 to 5\n",
    "    # cross validation to get the weight\n",
    "    w = weight_all_cal(risk_constraint,n_splits,response,U,r,f,beta,sharpe_all_adj,sharpe_f,sharpe_u_adj)\n",
    "    return w, selected_col"
   ]
  },
  {
   "cell_type": "code",
   "execution_count": 10,
   "id": "73a9d1b9-787d-43cd-8c08-5f365ce7ad06",
   "metadata": {
    "tags": []
   },
   "outputs": [],
   "source": [
    "def optimal_return(data,w,selected_col,factor_list):\n",
    "    f = data[factor_list]\n",
    "    r = data[selected_col]\n",
    "    total = np.array(pd.concat([f,r],axis=1))\n",
    "    return (total@w)[0][0]"
   ]
  },
  {
   "cell_type": "code",
   "execution_count": 12,
   "id": "e81e7459-32e0-40dd-b0d0-c984e911f014",
   "metadata": {
    "tags": []
   },
   "outputs": [
    {
     "name": "stderr",
     "output_type": "stream",
     "text": [
      "  1%|█                                                                                  | 1/79 [00:06<08:02,  6.19s/it]\n"
     ]
    },
    {
     "ename": "KeyboardInterrupt",
     "evalue": "",
     "output_type": "error",
     "traceback": [
      "\u001b[1;31m---------------------------------------------------------------------------\u001b[0m",
      "\u001b[1;31mKeyboardInterrupt\u001b[0m                         Traceback (most recent call last)",
      "File \u001b[1;32m<timed exec>:62\u001b[0m\n",
      "Cell \u001b[1;32mIn[9], line 12\u001b[0m, in \u001b[0;36moptimal_portfolio\u001b[1;34m(data, subsize, n, risk_constraint, n_splits, factor_list)\u001b[0m\n\u001b[0;32m      9\u001b[0m total \u001b[38;5;241m=\u001b[39m np\u001b[38;5;241m.\u001b[39marray(pd\u001b[38;5;241m.\u001b[39mconcat([f,r],axis\u001b[38;5;241m=\u001b[39m\u001b[38;5;241m1\u001b[39m))\n\u001b[0;32m     11\u001b[0m \u001b[38;5;66;03m# Step 0\u001b[39;00m\n\u001b[1;32m---> 12\u001b[0m selected_col \u001b[38;5;241m=\u001b[39m subpool(r,f,subsize,n)\n\u001b[0;32m     13\u001b[0m r \u001b[38;5;241m=\u001b[39m r[selected_col] \u001b[38;5;66;03m# renew stocks\u001b[39;00m\n\u001b[0;32m     15\u001b[0m \u001b[38;5;66;03m# Step 1\u001b[39;00m\n",
      "Cell \u001b[1;32mIn[2], line 14\u001b[0m, in \u001b[0;36msubpool\u001b[1;34m(r, f, subsize, n)\u001b[0m\n\u001b[0;32m     11\u001b[0m substock \u001b[38;5;241m=\u001b[39m np\u001b[38;5;241m.\u001b[39mrandom\u001b[38;5;241m.\u001b[39mchoice(r\u001b[38;5;241m.\u001b[39mcolumns,subsize,replace\u001b[38;5;241m=\u001b[39m\u001b[38;5;28;01mFalse\u001b[39;00m)\n\u001b[0;32m     12\u001b[0m col_pool\u001b[38;5;241m.\u001b[39mappend(substock)\n\u001b[1;32m---> 14\u001b[0m total \u001b[38;5;241m=\u001b[39m np\u001b[38;5;241m.\u001b[39marray(pd\u001b[38;5;241m.\u001b[39mconcat([f,r[substock]],axis\u001b[38;5;241m=\u001b[39m\u001b[38;5;241m1\u001b[39m)) \u001b[38;5;66;03m# 合成total，用以计算总体的sharpe\u001b[39;00m\n\u001b[0;32m     15\u001b[0m subsharpe \u001b[38;5;241m=\u001b[39m sharpe(total,adjust\u001b[38;5;241m=\u001b[39m\u001b[38;5;28;01mTrue\u001b[39;00m)\n\u001b[0;32m     16\u001b[0m sharpe_pool\u001b[38;5;241m.\u001b[39mappend(subsharpe)\n",
      "File \u001b[1;32mD:\\Software\\anaconda\\Lib\\site-packages\\pandas\\core\\generic.py:1997\u001b[0m, in \u001b[0;36mNDFrame.__array__\u001b[1;34m(self, dtype)\u001b[0m\n\u001b[0;32m   1996\u001b[0m \u001b[38;5;28;01mdef\u001b[39;00m \u001b[38;5;21m__array__\u001b[39m(\u001b[38;5;28mself\u001b[39m, dtype: npt\u001b[38;5;241m.\u001b[39mDTypeLike \u001b[38;5;241m|\u001b[39m \u001b[38;5;28;01mNone\u001b[39;00m \u001b[38;5;241m=\u001b[39m \u001b[38;5;28;01mNone\u001b[39;00m) \u001b[38;5;241m-\u001b[39m\u001b[38;5;241m>\u001b[39m np\u001b[38;5;241m.\u001b[39mndarray:\n\u001b[1;32m-> 1997\u001b[0m     values \u001b[38;5;241m=\u001b[39m \u001b[38;5;28mself\u001b[39m\u001b[38;5;241m.\u001b[39m_values\n\u001b[0;32m   1998\u001b[0m     arr \u001b[38;5;241m=\u001b[39m np\u001b[38;5;241m.\u001b[39masarray(values, dtype\u001b[38;5;241m=\u001b[39mdtype)\n\u001b[0;32m   1999\u001b[0m     \u001b[38;5;28;01mif\u001b[39;00m (\n\u001b[0;32m   2000\u001b[0m         astype_is_view(values\u001b[38;5;241m.\u001b[39mdtype, arr\u001b[38;5;241m.\u001b[39mdtype)\n\u001b[0;32m   2001\u001b[0m         \u001b[38;5;129;01mand\u001b[39;00m using_copy_on_write()\n\u001b[0;32m   2002\u001b[0m         \u001b[38;5;129;01mand\u001b[39;00m \u001b[38;5;28mself\u001b[39m\u001b[38;5;241m.\u001b[39m_mgr\u001b[38;5;241m.\u001b[39mis_single_block\n\u001b[0;32m   2003\u001b[0m     ):\n\u001b[0;32m   2004\u001b[0m         \u001b[38;5;66;03m# Check if both conversions can be done without a copy\u001b[39;00m\n",
      "File \u001b[1;32mD:\\Software\\anaconda\\Lib\\site-packages\\pandas\\core\\frame.py:1001\u001b[0m, in \u001b[0;36mDataFrame._values\u001b[1;34m(self)\u001b[0m\n\u001b[0;32m    999\u001b[0m blocks \u001b[38;5;241m=\u001b[39m mgr\u001b[38;5;241m.\u001b[39mblocks\n\u001b[0;32m   1000\u001b[0m \u001b[38;5;28;01mif\u001b[39;00m \u001b[38;5;28mlen\u001b[39m(blocks) \u001b[38;5;241m!=\u001b[39m \u001b[38;5;241m1\u001b[39m:\n\u001b[1;32m-> 1001\u001b[0m     \u001b[38;5;28;01mreturn\u001b[39;00m ensure_wrapped_if_datetimelike(\u001b[38;5;28mself\u001b[39m\u001b[38;5;241m.\u001b[39mvalues)\n\u001b[0;32m   1003\u001b[0m arr \u001b[38;5;241m=\u001b[39m blocks[\u001b[38;5;241m0\u001b[39m]\u001b[38;5;241m.\u001b[39mvalues\n\u001b[0;32m   1004\u001b[0m \u001b[38;5;28;01mif\u001b[39;00m arr\u001b[38;5;241m.\u001b[39mndim \u001b[38;5;241m==\u001b[39m \u001b[38;5;241m1\u001b[39m:\n\u001b[0;32m   1005\u001b[0m     \u001b[38;5;66;03m# non-2D ExtensionArray\u001b[39;00m\n",
      "File \u001b[1;32mD:\\Software\\anaconda\\Lib\\site-packages\\pandas\\core\\frame.py:11360\u001b[0m, in \u001b[0;36mDataFrame.values\u001b[1;34m(self)\u001b[0m\n\u001b[0;32m  11286\u001b[0m \u001b[38;5;129m@property\u001b[39m\n\u001b[0;32m  11287\u001b[0m \u001b[38;5;28;01mdef\u001b[39;00m \u001b[38;5;21mvalues\u001b[39m(\u001b[38;5;28mself\u001b[39m) \u001b[38;5;241m-\u001b[39m\u001b[38;5;241m>\u001b[39m np\u001b[38;5;241m.\u001b[39mndarray:\n\u001b[0;32m  11288\u001b[0m \u001b[38;5;250m    \u001b[39m\u001b[38;5;124;03m\"\"\"\u001b[39;00m\n\u001b[0;32m  11289\u001b[0m \u001b[38;5;124;03m    Return a Numpy representation of the DataFrame.\u001b[39;00m\n\u001b[0;32m  11290\u001b[0m \n\u001b[1;32m   (...)\u001b[0m\n\u001b[0;32m  11358\u001b[0m \u001b[38;5;124;03m           ['monkey', nan, None]], dtype=object)\u001b[39;00m\n\u001b[0;32m  11359\u001b[0m \u001b[38;5;124;03m    \"\"\"\u001b[39;00m\n\u001b[1;32m> 11360\u001b[0m     \u001b[38;5;28;01mreturn\u001b[39;00m \u001b[38;5;28mself\u001b[39m\u001b[38;5;241m.\u001b[39m_mgr\u001b[38;5;241m.\u001b[39mas_array()\n",
      "File \u001b[1;32mD:\\Software\\anaconda\\Lib\\site-packages\\pandas\\core\\internals\\managers.py:1732\u001b[0m, in \u001b[0;36mBlockManager.as_array\u001b[1;34m(self, dtype, copy, na_value)\u001b[0m\n\u001b[0;32m   1730\u001b[0m         arr\u001b[38;5;241m.\u001b[39mflags\u001b[38;5;241m.\u001b[39mwriteable \u001b[38;5;241m=\u001b[39m \u001b[38;5;28;01mFalse\u001b[39;00m\n\u001b[0;32m   1731\u001b[0m \u001b[38;5;28;01melse\u001b[39;00m:\n\u001b[1;32m-> 1732\u001b[0m     arr \u001b[38;5;241m=\u001b[39m \u001b[38;5;28mself\u001b[39m\u001b[38;5;241m.\u001b[39m_interleave(dtype\u001b[38;5;241m=\u001b[39mdtype, na_value\u001b[38;5;241m=\u001b[39mna_value)\n\u001b[0;32m   1733\u001b[0m     \u001b[38;5;66;03m# The underlying data was copied within _interleave, so no need\u001b[39;00m\n\u001b[0;32m   1734\u001b[0m     \u001b[38;5;66;03m# to further copy if copy=True or setting na_value\u001b[39;00m\n\u001b[0;32m   1736\u001b[0m \u001b[38;5;28;01mif\u001b[39;00m na_value \u001b[38;5;129;01mis\u001b[39;00m \u001b[38;5;129;01mnot\u001b[39;00m lib\u001b[38;5;241m.\u001b[39mno_default:\n",
      "File \u001b[1;32mD:\\Software\\anaconda\\Lib\\site-packages\\pandas\\core\\internals\\managers.py:1795\u001b[0m, in \u001b[0;36mBlockManager._interleave\u001b[1;34m(self, dtype, na_value)\u001b[0m\n\u001b[0;32m   1793\u001b[0m         arr \u001b[38;5;241m=\u001b[39m blk\u001b[38;5;241m.\u001b[39mget_values(dtype)\n\u001b[0;32m   1794\u001b[0m     result[rl\u001b[38;5;241m.\u001b[39mindexer] \u001b[38;5;241m=\u001b[39m arr\n\u001b[1;32m-> 1795\u001b[0m     itemmask[rl\u001b[38;5;241m.\u001b[39mindexer] \u001b[38;5;241m=\u001b[39m \u001b[38;5;241m1\u001b[39m\n\u001b[0;32m   1797\u001b[0m \u001b[38;5;28;01mif\u001b[39;00m \u001b[38;5;129;01mnot\u001b[39;00m itemmask\u001b[38;5;241m.\u001b[39mall():\n\u001b[0;32m   1798\u001b[0m     \u001b[38;5;28;01mraise\u001b[39;00m \u001b[38;5;167;01mAssertionError\u001b[39;00m(\u001b[38;5;124m\"\u001b[39m\u001b[38;5;124mSome items were not contained in blocks\u001b[39m\u001b[38;5;124m\"\u001b[39m)\n",
      "\u001b[1;31mKeyboardInterrupt\u001b[0m: "
     ]
    }
   ],
   "source": [
    "%%time\n",
    "if __name__ == '__main__':\n",
    "    # 导入价格数据\n",
    "    price = pd.read_pickle('.\\\\AMQI\\\\processed\\\\price_month.pkl')[['code','date','return']]\n",
    "    \n",
    "    # 导入沪深300成分股\n",
    "    hs300 = pd.read_csv('.\\\\AMQI\\\\raw\\\\hs300.csv')\n",
    "    hs300['code'] = hs300['code'].astype(str).str.zfill(6)\n",
    "    \n",
    "    price = pd.merge(price,hs300,\n",
    "                     on=['code']) # 筛选成分股\n",
    "    \n",
    "    # 导入无风险收益率计算风险溢价\n",
    "    risk_free = pd.read_csv('.\\\\AMQI\\\\raw\\\\risk_free.csv')\n",
    "    risk_free = risk_free.drop('risk_free',axis=1)\n",
    "    risk_free['risk_free_month'] = risk_free['risk_free_month']*0.01\n",
    "    risk_free['date'] = pd.to_datetime(risk_free['date'])\n",
    "\n",
    "    price = pd.merge(price,risk_free,\n",
    "                     on='date',how='left')\n",
    "\n",
    "    price['return'] = price['return'] - price['risk_free_month']\n",
    "    price = price.drop('risk_free_month',axis=1)\n",
    "    \n",
    "    # 导入异象\n",
    "    factor_list = ['ami3','esba']\n",
    "    factor_path = '.\\\\AMQI\\\\output\\\\return\\\\'\n",
    "    factor = pd.DataFrame()\n",
    "    for f in factor_list:\n",
    "        sub_factor = pd.read_csv(factor_path+f+'.csv',index_col=0)[['return_spread_mv','year_month']].rename(\n",
    "            columns={'return_spread_mv':'return',\n",
    "                    'year_month':'date'})\n",
    "        sub_factor['code'] = f\n",
    "        factor = pd.concat([factor,sub_factor])\n",
    "        \n",
    "    # 导入三因子\n",
    "    factor3 = pd.read_csv('.\\\\AMQI\\\\raw\\\\ch3.csv')\n",
    "    factor3['date'] = pd.to_datetime(factor3['date'].astype(str)).dt.strftime('%Y-%m')    \n",
    "        \n",
    "    # 合并factor与price\n",
    "    factor['date'] = pd.to_datetime(factor['date']).dt.strftime('%Y-%m')\n",
    "    price['date'] = price['date'].dt.strftime('%Y-%m')\n",
    "    data = pd.concat([factor,price]).pivot(index='date',\n",
    "                                           columns='code',\n",
    "                                           values='return').reset_index().dropna(subset=factor_list) # 保证因子数据完整\n",
    "    factor_list = factor_list + list(factor3.columns[1:])\n",
    "    data = pd.merge(data,factor3,\n",
    "                    on='date',how='left')\n",
    "    \n",
    "    T = 120 # rolling window的长度\n",
    "    subsize = 50 # 筛选\n",
    "    n = 1000 # subpool筛选次数\n",
    "    risk_constraint = 0.04\n",
    "    n_splits = 10\n",
    "    final_portfolio = []\n",
    "    date_df = []\n",
    "    \n",
    "    for i in tqdm(range(data.shape[0]-T-1)):\n",
    "        max_attempts = 10\n",
    "        result_pool = []\n",
    "        while max_attempts > 0:\n",
    "            subdata = data.iloc[i:T+i,:]\n",
    "            w, selected_col = optimal_portfolio(subdata,subsize,n,risk_constraint,n_splits,factor_list)\n",
    "            subdata = pd.DataFrame(data.iloc[T+i+1,:]).T\n",
    "            result = optimal_return(subdata,w,selected_col,factor_list)\n",
    "            result_pool.append(result)\n",
    "            if (result <= 0.5) & (result >= -0.5):\n",
    "                final_portfolio.append(result)\n",
    "                date_df.append(data.iloc[T+i+1,:]['date'])\n",
    "                break\n",
    "            else:\n",
    "                max_attempts -= 1\n",
    "                print(f\"Strange return detected, retrying for i={i}...\")\n",
    "        if max_attempts == 0:\n",
    "            final_portfolio.append(max(result_pool))\n",
    "            date_df.append(data.iloc[T+i+1,:]['date'])\n",
    "            \n",
    "    output = pd.DataFrame([date_df,final_portfolio],index=['year_month','return']).T\n",
    "    output['return'] = output['return'].astype(float)"
   ]
  },
  {
   "cell_type": "code",
   "execution_count": 98,
   "id": "23decbd8-2d86-4129-a417-383fd522d2d3",
   "metadata": {
    "tags": []
   },
   "outputs": [],
   "source": [
    "output.to_csv('.\\\\AMQI\\\\output\\\\Second part result\\\\ch3.csv')"
   ]
  },
  {
   "cell_type": "markdown",
   "id": "25738292-9601-4d67-9c27-cfeb1df2acc2",
   "metadata": {
    "tags": []
   },
   "source": [
    "上述为中途暂停打断，代码本身可以完整运行"
   ]
  },
  {
   "cell_type": "markdown",
   "id": "ec8c36e4-eedb-4a9c-b219-2ae8647af2b7",
   "metadata": {
    "jp-MarkdownHeadingCollapsed": true,
    "tags": []
   },
   "source": [
    "### 草稿与测试"
   ]
  },
  {
   "cell_type": "code",
   "execution_count": 45,
   "id": "b8c82221-0a00-489b-bdc2-9d7d94d70174",
   "metadata": {
    "tags": []
   },
   "outputs": [
    {
     "name": "stdout",
     "output_type": "stream",
     "text": [
      "0.42971665316171803\n"
     ]
    },
    {
     "data": {
      "text/plain": [
       "0.8868520774815422"
      ]
     },
     "execution_count": 45,
     "metadata": {},
     "output_type": "execute_result"
    }
   ],
   "source": [
    "i = 94\n",
    "subdata = data.iloc[i:T+i,:]\n",
    "w, selected_col = optimal_portfolio(subdata,subsize,n,risk_constraint,n_splits,factor_list)\n",
    "subdata = pd.DataFrame(data.iloc[T+i+1,:]).T\n",
    "optimal_return(subdata,w,selected_col,factor_list)"
   ]
  },
  {
   "cell_type": "code",
   "execution_count": 16,
   "id": "28eb2d92-6344-4e87-b2ca-3623f1171ddd",
   "metadata": {
    "tags": []
   },
   "outputs": [
    {
     "name": "stdout",
     "output_type": "stream",
     "text": [
      "CPU times: total: 125 ms\n",
      "Wall time: 427 ms\n"
     ]
    }
   ],
   "source": []
  },
  {
   "cell_type": "code",
   "execution_count": 12,
   "id": "52ed5dd5-7f57-4cf9-9bd8-406bc3f37422",
   "metadata": {
    "tags": []
   },
   "outputs": [],
   "source": [
    "def sharpe(r,adjust=False):\n",
    "    '''\n",
    "    获得一个rolling windows的beta值\n",
    "    '''\n",
    "    r = np.array(r) # 调整数据格式\n",
    "    T = r.shape[0]\n",
    "    N = r.shape[1]\n",
    "    \n",
    "    mu = r.mean(axis=0).reshape(-1,1)\n",
    "    SIGMA = np.dot((r - mu.T).T,(r - mu.T))/(T-1)\n",
    "        \n",
    "    # sharpe比\n",
    "    sharpe_s_all = mu.T @ np.linalg.inv(SIGMA) @ mu # 没调整的sharpe比\n",
    "    if adjust:\n",
    "        # 调整sharpe\n",
    "        B = lambda x,a,b:quad(lambda y:(y**(a-1))*((1-y)**(b-1)),0,x)[0]\n",
    "        sharpe_all_adj1 = ((T-N-2)*sharpe_s_all-N)/T\n",
    "        sharpe_all_adj2 = (2*np.power(sharpe_s_all,N/2)*np.power(1+sharpe_s_all,(T-2)/(-2)))\n",
    "        sharpe_all_adj3 = (T*B((sharpe_s_all/(1+sharpe_s_all)),N/2,(T-N)/2))\n",
    "        sharpe_all_adj = sharpe_all_adj1+sharpe_all_adj2/sharpe_all_adj3\n",
    "                            \n",
    "        return sharpe_all_adj[0][0]\n",
    "    else:\n",
    "        return sharpe_s_all[0][0]"
   ]
  },
  {
   "cell_type": "code",
   "execution_count": 23,
   "id": "26f27427-ee81-4368-a242-91b978b3f9b0",
   "metadata": {
    "tags": []
   },
   "outputs": [],
   "source": [
    "def sharpe_all(r,f,adjust=False):\n",
    "    '''\n",
    "    由于残差项具有因子结构，故需要单独计算\n",
    "    '''\n",
    "    r = np.array(r)\n",
    "    f = np.array(f)\n",
    "    T = r.shape[0]\n",
    "    N = r.shape[1]\n",
    "    K = f.shape[1]\n",
    "    \n",
    "    mu1 = f.mean(axis=0).reshape(-1,1)\n",
    "    mu2 = r.mean(axis=0).reshape(-1,1)\n",
    "    mu = np.vstack([mu1,mu2])\n",
    "    \n",
    "    # 计算协方差矩阵，由于残差项保留因子结构，因此需要特殊处理\n",
    "    beta,U = OLS(r,f)\n",
    "    SIGMA1 = np.dot((f - mu1.T).T,(f - mu1.T))/(T-1)\n",
    "    SIGMA2 = np.dot(SIGMA1,beta)\n",
    "    SIGMA4 = np.dot((r - mu2.T).T,(r - mu2.T))/(T-1)\n",
    "    SIGMA = np.vstack([np.hstack([SIGMA1,SIGMA2]),\n",
    "                       np.hstack([SIGMA2.T,SIGMA4])])\n",
    "\n",
    "    # sharpe比\n",
    "    sharpe_s_all = mu.T @ np.linalg.inv(SIGMA) @ mu # 没调整的sharpe比\n",
    "    if adjust & (sharpe_s_all > 0):\n",
    "        # 调整sharpe\n",
    "        B = lambda x,a,b:quad(lambda y:(y**(a-1))*((1-y)**(b-1)),0,x)[0]\n",
    "        sharpe_all_adj1 = ((T-N-K-2)*sharpe_s_all-N-K)/T\n",
    "        sharpe_all_adj2 = (2*np.power(sharpe_s_all,(N+K)/2)*np.power(1+sharpe_s_all,(T-2)/(-2)))\n",
    "        sharpe_all_adj3 = (T*B((sharpe_s_all/(1+sharpe_s_all)),(N+K)/2,(T-N-K)/2))\n",
    "        sharpe_all_adj = sharpe_all_adj1+sharpe_all_adj2/sharpe_all_adj3\n",
    "                            \n",
    "        return sharpe_all_adj[0][0]\n",
    "    else:\n",
    "        return sharpe_s_all[0][0]"
   ]
  },
  {
   "cell_type": "code",
   "execution_count": 27,
   "id": "86307cc4-7a07-483d-8f7f-477b6cbdf131",
   "metadata": {
    "tags": []
   },
   "outputs": [],
   "source": [
    "def subpool(r,f,subsize,n):\n",
    "    '''\n",
    "    筛选夏普比最大的子股票池\n",
    "    '''\n",
    "    sharpe_pool = [] # 储存所有sharpe比\n",
    "    col_pool = [] # 储存所有columns\n",
    "\n",
    "    # 随机挑选子股票池并循环该过程\n",
    "    for i in range(n):\n",
    "        substock = np.random.choice(r.columns,subsize,replace=False)\n",
    "        col_pool.append(substock)\n",
    "    \n",
    "        total = np.array(pd.concat([f,r[substock]],axis=1)) # 合成total，用以计算总体的sharpe\n",
    "        subsharpe = sharpe(total,adjust=True)\n",
    "        sharpe_pool.append(subsharpe)\n",
    "\n",
    "    # 筛选sharpe比在95%处的投资组合\n",
    "    sharpe_pool = np.array(sharpe_pool)\n",
    "    selected_index = np.where(sharpe_pool >= np.quantile(sharpe_pool,0.95))[0]\n",
    "    selected_index = selected_index[np.argmin(sharpe_pool[selected_index])]\n",
    "    selected_col = col_pool[selected_index]\n",
    "        \n",
    "    return selected_col"
   ]
  },
  {
   "cell_type": "code",
   "execution_count": 40,
   "id": "7d3f0e34-ff15-432b-980f-e3868a155ed9",
   "metadata": {
    "tags": []
   },
   "outputs": [],
   "source": [
    "def weight_all_cal(risk_constraint,n_splits,response,U,r,f,beta,sharpe_all_adj,sharpe_f,sharpe_u_adj):\n",
    "    response_df = np.full(U.shape[0],response)\n",
    "    alpha_list = np.linspace(0.001,0.1,100)\n",
    "    alpha_pool = [] #用于储存最优alpha\n",
    "    kf = KFold(n_splits=n_splits)\n",
    "    for train,test in kf.split(U):\n",
    "        lasso_pool = [] # 用于储存risk和risk_contraint的比对结果,每个结果\n",
    "        for a in alpha_list:\n",
    "            # train part\n",
    "            weight_all =  weight(a,U[train],response_df[train],r.iloc[train],f.iloc[train],beta,sharpe_all_adj,sharpe_f,sharpe_u_adj)\n",
    "            \n",
    "            # 利用test进行检验\n",
    "            total = np.array(pd.concat([f.iloc[train],r.iloc[train]],axis=1))\n",
    "            mu_total, SIGMA_total = mu_sigma(total)\n",
    "            #MAE = np.abs(weight_all.T@SIGMA_total@weight_all - risk_constraint**2)[0][0]\n",
    "            MAE = (weight_all.T@SIGMA_total@weight_all)[0][0]\n",
    "            \n",
    "            lasso_pool.append(MAE)\n",
    "        \n",
    "        # 选出MAE最小的alpha\n",
    "        lasso_pool = np.array(lasso_pool)\n",
    "        i = np.where(lasso_pool == lasso_pool.min())[0][0]\n",
    "        alpha_pool.append(alpha_list[i])\n",
    "        break\n",
    "\n",
    "    # 选出最终的alpha\n",
    "    #alpha = np.array(alpha_pool).mean()\n",
    "    #weight_all = weight(alpha,U,response_df,r,f,beta,sharpe_all_adj,sharpe_f,sharpe_u_adj)\n",
    "    #return weight_all/weight_all.sum()\n",
    "    return lasso_pool,alpha_list,i"
   ]
  },
  {
   "cell_type": "code",
   "execution_count": 49,
   "id": "86c1a319-542c-4167-a2ec-82b13f85b641",
   "metadata": {
    "tags": []
   },
   "outputs": [],
   "source": [
    "## 主流程草稿\n",
    "subdata = data.iloc[:120,:]\n",
    "subdata = subdata.drop('date',axis=1)\n",
    "stock = subdata.drop(factor_list,axis=1)\n",
    "factor = subdata[factor_list]\n",
    "\n",
    "# 计入函数的部分\n",
    "r = stock.dropna(axis=1)\n",
    "f = factor.dropna(axis=1)\n",
    "total = np.array(pd.concat([f,r],axis=1))\n",
    "\n",
    "# Step 0\n",
    "n = 2000\n",
    "selected_col = subpool(r,f,subsize,n)\n",
    "\n",
    "r = r[selected_col] # renew stocks\n",
    "\n",
    "# Step 1\n",
    "beta, U = OLS(r,f)\n",
    "\n",
    "# Step 2\n",
    "total = np.array(pd.concat([f,r],axis=1))\n",
    "sharpe_all_adj = sharpe(total,adjust=True)\n",
    "sharpe_f = sharpe(f)\n",
    "sharpe_u_adj = sharpe_all_adj - sharpe_f\n",
    "response = (1+sharpe_u_adj)/np.sqrt(sharpe_u_adj)\n",
    "\n",
    "# Step 3 to 5\n",
    "# cross validation to get the weight\n",
    "#w = weight_all_cal(risk_constraint,n_splits,response,U,r,f)\n",
    "risk_constraint = 0.04\n",
    "lambda_pool, alpha_list, i = weight_all_cal(risk_constraint,n_splits,response,U,r,f,beta,sharpe_all_adj,sharpe_f,sharpe_u_adj)"
   ]
  },
  {
   "cell_type": "code",
   "execution_count": 60,
   "id": "b8dd2b40-a7bb-4e62-bd45-fe54f4702022",
   "metadata": {
    "tags": []
   },
   "outputs": [
    {
     "data": {
      "image/png": "[encoded data removed]",
      "text/plain": [
       "<Figure size 800x800 with 1 Axes>"
      ]
     },
     "metadata": {},
     "output_type": "display_data"
    }
   ],
   "source": [
    "risk_constraint = 0.035\n",
    "fig,ax = plt.subplots(figsize=(8,8))\n",
    "\n",
    "ax.plot(alpha_list,lambda_pool,marker='o')\n",
    "ax.axhline(risk_constraint**2,color='r',ls='--')\n",
    "ax.axvline(alpha_list[18],color='r',ls='--')\n",
    "ax.set_xlabel('L1 regularization term λ')\n",
    "ax.set_ylabel('risk σ')\n",
    "ax.grid()\n",
    "plt.show()"
   ]
  },
  {
   "cell_type": "code",
   "execution_count": 52,
   "id": "d22269be-bfcd-4d56-b007-01a1cd4703f5",
   "metadata": {},
   "outputs": [
    {
     "data": {
      "text/plain": [
       "0.02"
      ]
     },
     "execution_count": 52,
     "metadata": {},
     "output_type": "execute_result"
    }
   ],
   "source": []
  },
  {
   "cell_type": "code",
   "execution_count": 47,
   "id": "5af42196-d0d3-40f2-ba73-43db47146c5a",
   "metadata": {
    "tags": []
   },
   "outputs": [
    {
     "data": {
      "text/plain": [
       "(22, 3)"
      ]
     },
     "execution_count": 47,
     "metadata": {},
     "output_type": "execute_result"
    }
   ],
   "source": [
    "np.hstack([weight_all,weight_all,weight_all]).shape"
   ]
  },
  {
   "cell_type": "code",
   "execution_count": 54,
   "id": "d0c11ecc-36ae-479a-b8e5-0d3337e1ddfc",
   "metadata": {
    "tags": []
   },
   "outputs": [
    {
     "data": {
      "text/plain": [
       "array([-0.,  0., -0., -0., -0., -0.,  0., -0.,  0., -0., -0.,  0.,  0.,\n",
       "       -0.,  0., -0.,  0.,  0., -0.,  0.])"
      ]
     },
     "execution_count": 54,
     "metadata": {},
     "output_type": "execute_result"
    }
   ],
   "source": [
    "# train part\n",
    "        lasso = Lasso(alpha=a,fit_intercept=False)\n",
    "        lasso.fit(U[train],response_df[train])\n",
    "        weight_u = lasso.coef_.reshape(-1,1)\n",
    "        \n",
    "        # weight total\n",
    "        mu_f, SIGMA_f = mu_sigma(f.iloc[train])\n",
    "        weight_f = (np.linalg.inv(SIGMA_f) @ mu_f)/np.sqrt(sharpe_f)\n",
    "        weight_all = risk_constraint * np.vstack((np.sqrt(sharpe_f/sharpe_all_adj)*weight_f-np.sqrt(sharpe_u_adj/sharpe_all_adj)*(beta@weight_u),\n",
    "                                                 np.sqrt(sharpe_u_adj/sharpe_all_adj)*weight_u))"
   ]
  },
  {
   "cell_type": "code",
   "execution_count": 161,
   "id": "30c6e5ba-09c0-41e9-a373-34d0a126adfc",
   "metadata": {},
   "outputs": [
    {
     "data": {
      "text/plain": [
       "0.29395484594424953"
      ]
     },
     "execution_count": 161,
     "metadata": {},
     "output_type": "execute_result"
    }
   ],
   "source": [
    "sharpe_all_adj"
   ]
  },
  {
   "cell_type": "code",
   "execution_count": 174,
   "id": "79cda682-d308-454e-aac6-f81777f9d936",
   "metadata": {
    "tags": []
   },
   "outputs": [],
   "source": [
    "r = np.array(f)\n",
    "mu = r.mean(axis=0).reshape(-1,1)\n",
    "SIGMA = np.dot((r - mu.T).T,(r - mu.T))/(T-1)"
   ]
  },
  {
   "cell_type": "code",
   "execution_count": 176,
   "id": "05bd7adf-375e-48ad-82a2-c634899ee4d1",
   "metadata": {
    "tags": []
   },
   "outputs": [
    {
     "data": {
      "text/plain": [
       "array([0.4052286])"
      ]
     },
     "execution_count": 176,
     "metadata": {},
     "output_type": "execute_result"
    }
   ],
   "source": [
    "mu[0]/np.sqrt(SIGMA[0][0])"
   ]
  },
  {
   "cell_type": "code",
   "execution_count": null,
   "id": "92121b8d-4996-418e-a506-0be28414edd4",
   "metadata": {},
   "outputs": [],
   "source": []
  },
  {
   "cell_type": "code",
   "execution_count": null,
   "id": "de3f0991-3898-4d45-9f9a-0e1c4a702bf2",
   "metadata": {},
   "outputs": [],
   "source": []
  },
  {
   "cell_type": "code",
   "execution_count": 127,
   "id": "ba11139f-59b9-4435-b7ad-bcd33413206a",
   "metadata": {
    "tags": []
   },
   "outputs": [],
   "source": [
    "class MAXSER:\n",
    "    def __init__(self,stock,factor,T):\n",
    "        self.stock = stock\n",
    "        self.factor = factor\n",
    "        self.T = T\n",
    "    def OLS(B,A):\n",
    "        '''\n",
    "        计算Ax=B的OLS结果\n",
    "        '''\n",
    "        beta = np.linalg.lstsq(np.dot(A.T,A),np.dot(A.T,B),rcond=None)[0]\n",
    "        U = np.array(B) - np.array(A)@beta\n",
    "        return beta,U\n",
    "    \n",
    "    def sharpe(r,adjust=False):\n",
    "        '''\n",
    "        获得一个rolling windows的beta值\n",
    "        '''\n",
    "        r = np.array(r) # 调整数据格式\n",
    "        T = r.shape[0]\n",
    "        N = r.shape[1]\n",
    "    \n",
    "        mu = r.mean(axis=0).reshape(-1,1)\n",
    "        SIGMA = np.dot((r - mu.T).T,(r - mu.T))/(T-1)\n",
    "        \n",
    "        # sharpe比\n",
    "        sharpe_s_all = mu.T @ np.linalg.inv(SIGMA) @ mu # 没调整的sharpe比\n",
    "        if adjust:\n",
    "            # 调整sharpe\n",
    "            B = lambda x,a,b:quad(lambda y:(y**(a-1))*((1-y)**(b-1)),0,x)[0]\n",
    "            sharpe_all_adj1 = ((T-N-2)*sharpe_s_all-N)/T\n",
    "            sharpe_all_adj2 = (2*np.power(sharpe_s_all,N/2)*np.power(1+sharpe_s_all,(T-2)/(-2)))\n",
    "            sharpe_all_adj3 = (T*B((sharpe_s_all/(1+sharpe_s_all)),N/2,(T-N)/2))\n",
    "            sharpe_all_adj = sharpe_all_adj1+sharpe_all_adj2/sharpe_all_adj3\n",
    "                                \n",
    "            return sharpe_all_adj[0][0]\n",
    "        else:\n",
    "            return sharpe_s_all[0][0]\n",
    "    \n",
    "    def subpool(r,f,subsize,n):\n",
    "        '''\n",
    "        筛选夏普比最大的子股票池\n",
    "        '''\n",
    "        sharpe_pool = [] # 储存所有sharpe比\n",
    "        col_pool = [] # 储存所有columns\n",
    "\n",
    "        # 随机挑选子股票池并循环该过程\n",
    "        for _ in range(n):\n",
    "            substock = np.random.choice(r.columns,subsize,replace=False)\n",
    "            col_pool.append(substock)\n",
    "            \n",
    "            total = np.array(pd.concat([f,r[substock]],axis=1)) # 合成total，用以计算总体的sharpe\n",
    "            subsharpe = sharpe_adj(total)\n",
    "            sharpe_pool.append(subsharpe)\n",
    "\n",
    "        # 筛选sharpe比在95%处的投资组合\n",
    "        sharpe_pool = np.array(sharpe_pool)\n",
    "        selected_index = np.where(sharpe_pool >= np.quantile(sharpe_pool,0.95))[0]\n",
    "        selected_index = selected_index[np.argmin(sharpe_pool[selected_index])]\n",
    "        selected_col = col_pool[selected_index]\n",
    "        \n",
    "        return selected_col\n",
    "    def mu_sigma(r):\n",
    "        '''\n",
    "        得到一组收益率序列的平均值与协方差矩阵\n",
    "        '''\n",
    "        r = np.array(r) # 调整数据格式\n",
    "        T = r.shape[0]\n",
    "        mu = r.mean(axis=0).reshape(-1,1)\n",
    "        SIGMA = np.dot((r - mu.T).T,(r - mu.T))/(T-1)\n",
    "        return mu,SIGMA\n",
    "        \n",
    "        "
   ]
  },
  {
   "cell_type": "code",
   "execution_count": 70,
   "id": "b4bc8c30-d06a-4879-924d-5039d8b512a1",
   "metadata": {
    "tags": []
   },
   "outputs": [
    {
     "data": {
      "text/plain": [
       "['qsba6', 'pps9', 'rtv12', 'date', 'date', 'date']"
      ]
     },
     "execution_count": 70,
     "metadata": {},
     "output_type": "execute_result"
    }
   ],
   "source": []
  },
  {
   "cell_type": "code",
   "execution_count": 86,
   "id": "fe06ec82-7ced-4e18-b13b-7c96267b1d3f",
   "metadata": {
    "tags": []
   },
   "outputs": [],
   "source": [
    "#def sharpe():\n",
    "stock1 = stock.iloc[:T,:]\n",
    "factor1 = factor.iloc[:T,:]\n",
    "\n",
    "subsize = 20 # 筛选\n",
    "\n",
    "# 计入函数的部分\n",
    "r = stock1.dropna(axis=1).drop('date',axis=1).iloc[:,:subsize]\n",
    "f = factor1.dropna(axis=1).drop('date',axis=1)\n",
    "\n",
    "N = r.shape[1]\n",
    "K = f.shape[1]\n",
    "\n",
    "# 利用矩阵运算\n",
    "beta = np.linalg.lstsq(np.dot(f.T,f),np.dot(f.T,r),rcond=None)[0]\n",
    "\n",
    "total = np.array(pd.concat([f,r],axis=1))\n",
    "mu = total.mean(axis=0).reshape(-1,1)\n",
    "SIGMA = np.dot((total - mu.T).T,(total - mu.T))\n",
    "\n",
    "sharpe_s_all = mu.T @ np.linalg.inv(SIGMA) @ mu\n",
    "\n",
    "# 调整sharpe\n",
    "B = lambda x,a,b:quad(lambda y:(y**(a-1))*((1-y)**(b-1)),0,x)[0]\n",
    "sharpe_all_adj = ((T-N-K-2)*sharpe_s_all-N-K)/T \\\n",
    "                    + (2*np.power(sharpe_s_all,(N+K)/2)*np.power(1+sharpe_s_all,(T-2)/(-2)))/ \\\n",
    "                    (T*B((sharpe_s_all/(1+sharpe_s_all)),(N+K)/2,(T-N-K)/2))"
   ]
  },
  {
   "cell_type": "code",
   "execution_count": null,
   "id": "678865b4-f123-4a1a-b479-055e44afc4d6",
   "metadata": {},
   "outputs": [],
   "source": []
  }
 ],
 "metadata": {
  "kernelspec": {
   "display_name": "Python 3 (ipykernel)",
   "language": "python",
   "name": "python3"
  },
  "language_info": {
   "codemirror_mode": {
    "name": "ipython",
    "version": 3
   },
   "file_extension": ".py",
   "mimetype": "text/x-python",
   "name": "python",
   "nbconvert_exporter": "python",
   "pygments_lexer": "ipython3",
   "version": "3.11.4"
  }
 },
 "nbformat": 4,
 "nbformat_minor": 5
}
